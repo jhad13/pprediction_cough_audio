{
  "cells": [
    {
      "cell_type": "markdown",
      "metadata": {
        "id": "j33MPFCDMh28"
      },
      "source": [
        "# Prediction of Covid-19 from Cough Analysis\n"
      ]
    },
    {
      "cell_type": "markdown",
      "metadata": {
        "id": "d4GwOPWDSIjd"
      },
      "source": [
        "#Summary"
      ]
    },
    {
      "cell_type": "markdown",
      "metadata": {
        "id": "OoXZi0eQR6xy"
      },
      "source": [
        "The pandemic due to Covid-19 has been affecting the world since more than 2 years. Experts agree that mass testing is essential for isolating infected individuals, and slowing the progression of the virus. There is a need for testing method which is inexpensive, can give test result within a minute, can be done without any supervision and with limited contact with other people. Here I have taken cough audio data collected from public source to segment them into equal size with cough signal and extract the audio feture mel frequency cepstral coefficients (MFCCs) spectrograms using Librosa. I have used the extracted (MFCC) spectrogram to develop a deep learning Siamese network model to predict Covid-19 positive, symptomatic and healthy. This model can be use to develop a web app or cell phone app where people can upload their cough audio and know the test results for covid-positive or negative within minute. The model training accuracy was around 70% and validation accuracy calculated from confusion matrix was around 40%. Recall accuracy of 70%, 40% and 10% for Covid-19, Symptomatic and Healthy classes respectively. In otherwords this model is always predicting sick, which is not the case in real world scenario. In the present stage of this model, it can't be used for testing. "
      ]
    },
    {
      "cell_type": "markdown",
      "metadata": {
        "id": "-T6g43xQW13W"
      },
      "source": [
        "#Data"
      ]
    },
    {
      "cell_type": "markdown",
      "metadata": {
        "id": "pZmWbWv1W46Y"
      },
      "source": [
        "The data set was obtained from publicly available database. Data of cough and other informations such as health condition was collected from people all over the world. The dataset consists of thousands of cough audio of variable length along with metadata containing labels of Covid-19, Healthy and Symptomatic. The three kinds of levels were according to self reported value as confirmed Covid-19, symptomatic but not Covid-19 and healthy. The research group also have included the cough classification score in the metadata. Here is the link for the data collection article published by the research group (https://arxiv.org/pdf/2009.11644v1.pdf)."
      ]
    },
    {
      "cell_type": "markdown",
      "metadata": {
        "id": "hylitdbpOeob"
      },
      "source": [
        "## Downloading Dataset"
      ]
    },
    {
      "cell_type": "code",
      "execution_count": null,
      "metadata": {
        "colab": {
          "base_uri": "https://localhost:8080/"
        },
        "id": "oCq5T4BlMoFH",
        "outputId": "e5550d66-e11c-49a6-dbed-a51a1456556d"
      },
      "outputs": [
        {
          "name": "stdout",
          "output_type": "stream",
          "text": [
            "--2022-03-25 03:15:36--  https://zenodo.org/record/4498364/files/public_dataset.zip\n",
            "Resolving zenodo.org (zenodo.org)... 137.138.76.77\n",
            "Connecting to zenodo.org (zenodo.org)|137.138.76.77|:443... connected.\n",
            "HTTP request sent, awaiting response... 200 OK\n",
            "Length: 1332806163 (1.2G) [application/octet-stream]\n",
            "Saving to: ‘public_dataset.zip’\n",
            "\n",
            "public_dataset.zip  100%[===================>]   1.24G  4.09MB/s    in 9m 37s  \n",
            "\n",
            "2022-03-25 03:25:16 (2.20 MB/s) - ‘public_dataset.zip’ saved [1332806163/1332806163]\n",
            "\n"
          ]
        }
      ],
      "source": [
        "!wget https://zenodo.org/record/4498364/files/public_dataset.zip"
      ]
    },
    {
      "cell_type": "code",
      "execution_count": null,
      "metadata": {
        "id": "RMKTm8k1Rc4W"
      },
      "outputs": [],
      "source": [
        "!unzip public_dataset.zip"
      ]
    },
    {
      "cell_type": "code",
      "execution_count": null,
      "metadata": {
        "id": "kTwgFF0MOrQH"
      },
      "outputs": [],
      "source": [
        "!pip install -U plaidml-keras"
      ]
    },
    {
      "cell_type": "markdown",
      "metadata": {
        "id": "-L_fKo9De_hN"
      },
      "source": [
        "Installation of opensource software ffmpeg to convert audio files of .webm and .ogg files to audio processable file .wav format"
      ]
    },
    {
      "cell_type": "code",
      "execution_count": null,
      "metadata": {
        "colab": {
          "base_uri": "https://localhost:8080/"
        },
        "id": "pmropU9cPboN",
        "outputId": "443b9005-1405-4949-a8c9-3d21875f67dc"
      },
      "outputs": [
        {
          "name": "stdout",
          "output_type": "stream",
          "text": [
            "Reading package lists... Done\n",
            "Building dependency tree       \n",
            "Reading state information... Done\n",
            "ffmpeg is already the newest version (7:3.4.8-0ubuntu0.2).\n",
            "0 upgraded, 0 newly installed, 0 to remove and 39 not upgraded.\n"
          ]
        }
      ],
      "source": [
        "!apt install ffmpeg"
      ]
    },
    {
      "cell_type": "markdown",
      "metadata": {
        "id": "bGEOhxcePe0Z"
      },
      "source": [
        "# Segmentation"
      ]
    },
    {
      "cell_type": "markdown",
      "metadata": {
        "id": "GinY9tMQDCo9"
      },
      "source": [
        "##Padding and segmenting each file into individual coughs and equal dimension "
      ]
    },
    {
      "cell_type": "markdown",
      "metadata": {
        "id": "LDNnv_EN4ip7"
      },
      "source": [
        "As the audio samples collected from public were variable length, to keep the dimension of data in same length I used librosa for loading and segmenting the audio files to make all the audio sample uniform size and containing the cough segment. "
      ]
    },
    {
      "cell_type": "markdown",
      "metadata": {
        "id": "NK9oyZc-EiMp"
      },
      "source": [
        "I used the segmentation method provided by the research group, which published the data collection paper."
      ]
    },
    {
      "cell_type": "code",
      "execution_count": null,
      "metadata": {
        "id": "0Ch5XIgqQU2H"
      },
      "outputs": [],
      "source": [
        "import numpy as np"
      ]
    },
    {
      "cell_type": "code",
      "execution_count": null,
      "metadata": {
        "id": "-BW4BlcZPrPW"
      },
      "outputs": [],
      "source": [
        "\n",
        "\n",
        "\n",
        "def segment_cough(x,fs, cough_padding=0.2,min_cough_len=0.2, th_l_multiplier = 0.1, th_h_multiplier = 2):\n",
        "   \n",
        "    # I got this segmentation code from the original research group who published the data collection paper.\n",
        "    \"\"\"Inputs:\n",
        "    *x (np.array): cough signal\n",
        "    *fs (float): sampling frequency in Hz\n",
        "    *cough_padding (float): number of seconds added to the beginning and end of each detected cough to make sure coughs are not cut short\n",
        "    *min_cough_length (float): length of the minimum possible segment that can be considered a cough\n",
        "    *th_l_multiplier (float): multiplier of the RMS energy used as a lower threshold of the hysteresis comparator\n",
        "    *th_h_multiplier (float): multiplier of the RMS energy used as a high threshold of the hysteresis comparator\n",
        "    \n",
        "    Outputs:\n",
        "    *coughSegments (np.array of np.arrays): a list of cough signal arrays corresponding to each cough\n",
        "    cough_mask (np.array): an array of booleans that are True at the indices where a cough is in progress\"\"\"\n",
        "                \n",
        "    cough_mask = np.array([False]*len(x))\n",
        "    \n",
        "\n",
        "    #Define hysteresis thresholds\n",
        "    rms = np.sqrt(np.mean(np.square(x)))\n",
        "    seg_th_l = th_l_multiplier * rms\n",
        "    seg_th_h =  th_h_multiplier*rms\n",
        "\n",
        "    #Segment coughs\n",
        "    coughSegments = []\n",
        "    padding = round(fs*cough_padding)\n",
        "    min_cough_samples = round(fs*min_cough_len)\n",
        "    cough_start = 0\n",
        "    cough_end = 0\n",
        "    cough_in_progress = False\n",
        "    tolerance = round(0.01*fs)\n",
        "    below_th_counter = 0\n",
        "    \n",
        "    for i, sample in enumerate(x**2):\n",
        "        if cough_in_progress:\n",
        "            if sample<seg_th_l:\n",
        "                below_th_counter += 1\n",
        "                if below_th_counter > tolerance:\n",
        "                    cough_end = i+padding if (i+padding < len(x)) else len(x)-1\n",
        "                    cough_in_progress = False\n",
        "                    if (cough_end+1-cough_start-2*padding>min_cough_samples):\n",
        "                        coughSegments.append(x[cough_start:cough_end+1])\n",
        "                        cough_mask[cough_start:cough_end+1] = True\n",
        "            elif i == (len(x)-1):\n",
        "                cough_end=i\n",
        "                cough_in_progress = False\n",
        "                if (cough_end+1-cough_start-2*padding>min_cough_samples):\n",
        "                    coughSegments.append(x[cough_start:cough_end+1])\n",
        "            else:\n",
        "                below_th_counter = 0\n",
        "        else:\n",
        "            if sample>seg_th_h:\n",
        "                cough_start = i-padding if (i-padding >=0) else 0\n",
        "                cough_in_progress = True\n",
        "    \n",
        "    return coughSegments, cough_mask\n",
        "\n"
      ]
    },
    {
      "cell_type": "markdown",
      "metadata": {
        "id": "bmX8MCFXDZhY"
      },
      "source": [
        "Compute the Signal-to-Noise ratio of the audio signal x (np.array) with sampling frequency fs (float)"
      ]
    },
    {
      "cell_type": "code",
      "execution_count": null,
      "metadata": {
        "id": "57v_1QENP81R"
      },
      "outputs": [],
      "source": [
        "def compute_SNR(x, fs):\n",
        "    \n",
        "    segments, cough_mask = segment_cough(x,fs)\n",
        "    RMS_signal = 0 if len(x[cough_mask])==0 else np.sqrt(np.mean(np.square(x[cough_mask])))\n",
        "    RMS_noise = np.sqrt(np.mean(np.square(x[~cough_mask])))\n",
        "    SNR = 0 if (RMS_signal==0 or np.isnan(RMS_noise)) else 20*np.log10(RMS_signal/RMS_noise)\n",
        "    return SNR"
      ]
    },
    {
      "cell_type": "markdown",
      "metadata": {
        "id": "ZJkc7-JBQk_d"
      },
      "source": [
        "## Data Preparation"
      ]
    },
    {
      "cell_type": "markdown",
      "metadata": {
        "id": "gg6RrvD5DnfE"
      },
      "source": [
        "##Importing Librosa,keras and other libraries for model creation, training and plotting.\n"
      ]
    },
    {
      "cell_type": "code",
      "execution_count": null,
      "metadata": {
        "colab": {
          "base_uri": "https://localhost:8080/"
        },
        "id": "-MchuYW7Quye",
        "outputId": "cc95d3c6-513d-4fa5-a989-a097f958269e"
      },
      "outputs": [
        {
          "name": "stdout",
          "output_type": "stream",
          "text": [
            "Requirement already satisfied: keras-resnet in /usr/local/lib/python3.7/dist-packages (0.2.0)\n",
            "Requirement already satisfied: keras>=2.2.4 in /usr/local/lib/python3.7/dist-packages (from keras-resnet) (2.2.4)\n",
            "Requirement already satisfied: pyyaml in /usr/local/lib/python3.7/dist-packages (from keras>=2.2.4->keras-resnet) (3.13)\n",
            "Requirement already satisfied: scipy>=0.14 in /usr/local/lib/python3.7/dist-packages (from keras>=2.2.4->keras-resnet) (1.4.1)\n",
            "Requirement already satisfied: keras-applications>=1.0.6 in /usr/local/lib/python3.7/dist-packages (from keras>=2.2.4->keras-resnet) (1.0.8)\n",
            "Requirement already satisfied: six>=1.9.0 in /usr/local/lib/python3.7/dist-packages (from keras>=2.2.4->keras-resnet) (1.15.0)\n",
            "Requirement already satisfied: numpy>=1.9.1 in /usr/local/lib/python3.7/dist-packages (from keras>=2.2.4->keras-resnet) (1.21.5)\n",
            "Requirement already satisfied: keras-preprocessing>=1.0.5 in /usr/local/lib/python3.7/dist-packages (from keras>=2.2.4->keras-resnet) (1.1.2)\n",
            "Requirement already satisfied: h5py in /usr/local/lib/python3.7/dist-packages (from keras>=2.2.4->keras-resnet) (3.1.0)\n",
            "Requirement already satisfied: cached-property in /usr/local/lib/python3.7/dist-packages (from h5py->keras>=2.2.4->keras-resnet) (1.5.2)\n"
          ]
        }
      ],
      "source": [
        "!pip install keras-resnet"
      ]
    },
    {
      "cell_type": "code",
      "execution_count": null,
      "metadata": {
        "id": "lASJHzkaQoLb"
      },
      "outputs": [],
      "source": [
        "import pandas as pd\n",
        "import librosa \n",
        "import IPython.display as ipd\n",
        "import matplotlib.pyplot as plt\n",
        "import librosa.display\n",
        "from pathlib import Path\n",
        "\n",
        "import plaidml.keras\n",
        "plaidml.keras.install_backend()\n",
        "import keras\n",
        "import keras.backend as L\n",
        "from keras.applications.resnet50 import ResNet50\n",
        "from keras.layers import Flatten, Dense, Conv2D, MaxPooling2D, Input, Dropout, Activation\n",
        "from keras.models import Model, Sequential\n",
        "from keras.preprocessing.image import ImageDataGenerator\n",
        "from keras.optimizers import Adam\n",
        "from keras.layers.normalization import BatchNormalization\n",
        "\n",
        "%matplotlib inline"
      ]
    },
    {
      "cell_type": "markdown",
      "metadata": {
        "id": "IA_Ifx4AERPb"
      },
      "source": [
        "##Loading metadata and counting the classes"
      ]
    },
    {
      "cell_type": "code",
      "execution_count": null,
      "metadata": {
        "id": "7PV3yyTUQxUP"
      },
      "outputs": [],
      "source": [
        "data = pd.read_csv(r'public_dataset/metadata_compiled.csv')"
      ]
    },
    {
      "cell_type": "code",
      "execution_count": null,
      "metadata": {
        "id": "fln76cwdRV0T"
      },
      "outputs": [],
      "source": [
        "data = data[data[\"cough_detected\"]>0.29]"
      ]
    },
    {
      "cell_type": "code",
      "execution_count": null,
      "metadata": {
        "id": "reXK3C7GR1U7"
      },
      "outputs": [],
      "source": [
        "SAMPLE_RATE = 48000 "
      ]
    },
    {
      "cell_type": "code",
      "execution_count": null,
      "metadata": {
        "id": "W3huR5sBR5-w"
      },
      "outputs": [],
      "source": [
        "IMAGE_HEIGHT = 512\n",
        "IMAGE_WIDTH = 512\n",
        "IMAGE_CHANNELS = 1"
      ]
    },
    {
      "cell_type": "code",
      "execution_count": null,
      "metadata": {
        "id": "6vxFTZooSBCL"
      },
      "outputs": [],
      "source": [
        "data[\"Filepath\"] = \"public_dataset/\"+data[\"uuid\"]"
      ]
    },
    {
      "cell_type": "code",
      "execution_count": null,
      "metadata": {
        "id": "n904bRLCSU1W"
      },
      "outputs": [],
      "source": [
        "data = data.sort_values(by=\"cough_detected\", ascending = False)"
      ]
    },
    {
      "cell_type": "code",
      "execution_count": null,
      "metadata": {
        "id": "uF9CkAvbSqhg"
      },
      "outputs": [],
      "source": [
        "data = data[[\"uuid\",\"cough_detected\",\"Filepath\",\"status\"]]"
      ]
    },
    {
      "cell_type": "code",
      "execution_count": null,
      "metadata": {
        "id": "wHGr9emSS1rT"
      },
      "outputs": [],
      "source": [
        "data.dropna(axis=0, inplace=True)"
      ]
    },
    {
      "cell_type": "code",
      "execution_count": null,
      "metadata": {
        "colab": {
          "base_uri": "https://localhost:8080/"
        },
        "id": "KZsoi6cIS5JA",
        "outputId": "04616f71-a04e-4905-cefb-a3df9a93cb3c"
      },
      "outputs": [
        {
          "data": {
            "text/plain": [
              "healthy        10488\n",
              "symptomatic     2195\n",
              "COVID-19         835\n",
              "Name: status, dtype: int64"
            ]
          },
          "execution_count": 17,
          "metadata": {},
          "output_type": "execute_result"
        }
      ],
      "source": [
        "data[\"status\"].value_counts()"
      ]
    },
    {
      "cell_type": "markdown",
      "metadata": {
        "id": "o-3bXQVJF5mu"
      },
      "source": [
        "To make the dataset balanced for all the classes, I chose equal no of samples from all the classes. Covid-19 had least no of samples. So I chose sample size of 835 for all the classes."
      ]
    },
    {
      "cell_type": "code",
      "execution_count": null,
      "metadata": {
        "id": "_lma0s6bS9gN"
      },
      "outputs": [],
      "source": [
        "data = data.groupby('status').apply(lambda x : x.sample(835))"
      ]
    },
    {
      "cell_type": "code",
      "execution_count": null,
      "metadata": {
        "colab": {
          "base_uri": "https://localhost:8080/"
        },
        "id": "8kpT_ZMqTKqA",
        "outputId": "ce8b3577-8fa2-4359-c492-a50abffd8370"
      },
      "outputs": [
        {
          "data": {
            "text/plain": [
              "COVID-19       835\n",
              "healthy        835\n",
              "symptomatic    835\n",
              "Name: status, dtype: int64"
            ]
          },
          "execution_count": 19,
          "metadata": {},
          "output_type": "execute_result"
        }
      ],
      "source": [
        "data[\"status\"].value_counts()"
      ]
    },
    {
      "cell_type": "code",
      "execution_count": null,
      "metadata": {
        "colab": {
          "base_uri": "https://localhost:8080/",
          "height": 499
        },
        "id": "yp7bVMh4TR8P",
        "outputId": "f8531b02-12fc-4124-c2df-d5c4cde37aa6"
      },
      "outputs": [
        {
          "data": {
            "text/html": [
              "\n",
              "  <div id=\"df-46207385-f7f7-4751-a1db-7eebc810c544\">\n",
              "    <div class=\"colab-df-container\">\n",
              "      <div>\n",
              "<style scoped>\n",
              "    .dataframe tbody tr th:only-of-type {\n",
              "        vertical-align: middle;\n",
              "    }\n",
              "\n",
              "    .dataframe tbody tr th {\n",
              "        vertical-align: top;\n",
              "    }\n",
              "\n",
              "    .dataframe thead th {\n",
              "        text-align: right;\n",
              "    }\n",
              "</style>\n",
              "<table border=\"1\" class=\"dataframe\">\n",
              "  <thead>\n",
              "    <tr style=\"text-align: right;\">\n",
              "      <th></th>\n",
              "      <th></th>\n",
              "      <th>uuid</th>\n",
              "      <th>cough_detected</th>\n",
              "      <th>Filepath</th>\n",
              "      <th>status</th>\n",
              "    </tr>\n",
              "    <tr>\n",
              "      <th>status</th>\n",
              "      <th></th>\n",
              "      <th></th>\n",
              "      <th></th>\n",
              "      <th></th>\n",
              "      <th></th>\n",
              "    </tr>\n",
              "  </thead>\n",
              "  <tbody>\n",
              "    <tr>\n",
              "      <th rowspan=\"5\" valign=\"top\">COVID-19</th>\n",
              "      <th>22051</th>\n",
              "      <td>cd65f53b-5d48-4b6d-8f13-5ac619d81108</td>\n",
              "      <td>0.5202</td>\n",
              "      <td>public_dataset/cd65f53b-5d48-4b6d-8f13-5ac619d...</td>\n",
              "      <td>COVID-19</td>\n",
              "    </tr>\n",
              "    <tr>\n",
              "      <th>22164</th>\n",
              "      <td>ce8ccb5f-c7a3-48e1-839a-a9c4cd71ab3a</td>\n",
              "      <td>1.0000</td>\n",
              "      <td>public_dataset/ce8ccb5f-c7a3-48e1-839a-a9c4cd7...</td>\n",
              "      <td>COVID-19</td>\n",
              "    </tr>\n",
              "    <tr>\n",
              "      <th>18293</th>\n",
              "      <td>aa6fd1f1-ef61-4aba-9db6-18e625736b9f</td>\n",
              "      <td>0.7532</td>\n",
              "      <td>public_dataset/aa6fd1f1-ef61-4aba-9db6-18e6257...</td>\n",
              "      <td>COVID-19</td>\n",
              "    </tr>\n",
              "    <tr>\n",
              "      <th>19505</th>\n",
              "      <td>b57e5d14-8c3a-415b-89a6-79befe87330c</td>\n",
              "      <td>0.5801</td>\n",
              "      <td>public_dataset/b57e5d14-8c3a-415b-89a6-79befe8...</td>\n",
              "      <td>COVID-19</td>\n",
              "    </tr>\n",
              "    <tr>\n",
              "      <th>9784</th>\n",
              "      <td>5b0be374-28d0-4a16-b010-0c18a460a7d4</td>\n",
              "      <td>1.0000</td>\n",
              "      <td>public_dataset/5b0be374-28d0-4a16-b010-0c18a46...</td>\n",
              "      <td>COVID-19</td>\n",
              "    </tr>\n",
              "    <tr>\n",
              "      <th>...</th>\n",
              "      <th>...</th>\n",
              "      <td>...</td>\n",
              "      <td>...</td>\n",
              "      <td>...</td>\n",
              "      <td>...</td>\n",
              "    </tr>\n",
              "    <tr>\n",
              "      <th rowspan=\"5\" valign=\"top\">symptomatic</th>\n",
              "      <th>12609</th>\n",
              "      <td>74acb252-1606-40dd-981d-d60fe9660aeb</td>\n",
              "      <td>0.9960</td>\n",
              "      <td>public_dataset/74acb252-1606-40dd-981d-d60fe96...</td>\n",
              "      <td>symptomatic</td>\n",
              "    </tr>\n",
              "    <tr>\n",
              "      <th>10187</th>\n",
              "      <td>5ee6a648-fd4a-440f-abca-80b27991f444</td>\n",
              "      <td>0.9966</td>\n",
              "      <td>public_dataset/5ee6a648-fd4a-440f-abca-80b2799...</td>\n",
              "      <td>symptomatic</td>\n",
              "    </tr>\n",
              "    <tr>\n",
              "      <th>6993</th>\n",
              "      <td>412abb18-7ead-402e-a18b-7aa0d5fabf44</td>\n",
              "      <td>0.9704</td>\n",
              "      <td>public_dataset/412abb18-7ead-402e-a18b-7aa0d5f...</td>\n",
              "      <td>symptomatic</td>\n",
              "    </tr>\n",
              "    <tr>\n",
              "      <th>2304</th>\n",
              "      <td>15704523-4a4e-43f0-9b25-47d6a674f9ff</td>\n",
              "      <td>1.0000</td>\n",
              "      <td>public_dataset/15704523-4a4e-43f0-9b25-47d6a67...</td>\n",
              "      <td>symptomatic</td>\n",
              "    </tr>\n",
              "    <tr>\n",
              "      <th>12097</th>\n",
              "      <td>702283b1-9cd9-4da7-8695-54f619a5daf4</td>\n",
              "      <td>0.9717</td>\n",
              "      <td>public_dataset/702283b1-9cd9-4da7-8695-54f619a...</td>\n",
              "      <td>symptomatic</td>\n",
              "    </tr>\n",
              "  </tbody>\n",
              "</table>\n",
              "<p>2505 rows × 4 columns</p>\n",
              "</div>\n",
              "      <button class=\"colab-df-convert\" onclick=\"convertToInteractive('df-46207385-f7f7-4751-a1db-7eebc810c544')\"\n",
              "              title=\"Convert this dataframe to an interactive table.\"\n",
              "              style=\"display:none;\">\n",
              "        \n",
              "  <svg xmlns=\"http://www.w3.org/2000/svg\" height=\"24px\"viewBox=\"0 0 24 24\"\n",
              "       width=\"24px\">\n",
              "    <path d=\"M0 0h24v24H0V0z\" fill=\"none\"/>\n",
              "    <path d=\"M18.56 5.44l.94 2.06.94-2.06 2.06-.94-2.06-.94-.94-2.06-.94 2.06-2.06.94zm-11 1L8.5 8.5l.94-2.06 2.06-.94-2.06-.94L8.5 2.5l-.94 2.06-2.06.94zm10 10l.94 2.06.94-2.06 2.06-.94-2.06-.94-.94-2.06-.94 2.06-2.06.94z\"/><path d=\"M17.41 7.96l-1.37-1.37c-.4-.4-.92-.59-1.43-.59-.52 0-1.04.2-1.43.59L10.3 9.45l-7.72 7.72c-.78.78-.78 2.05 0 2.83L4 21.41c.39.39.9.59 1.41.59.51 0 1.02-.2 1.41-.59l7.78-7.78 2.81-2.81c.8-.78.8-2.07 0-2.86zM5.41 20L4 18.59l7.72-7.72 1.47 1.35L5.41 20z\"/>\n",
              "  </svg>\n",
              "      </button>\n",
              "      \n",
              "  <style>\n",
              "    .colab-df-container {\n",
              "      display:flex;\n",
              "      flex-wrap:wrap;\n",
              "      gap: 12px;\n",
              "    }\n",
              "\n",
              "    .colab-df-convert {\n",
              "      background-color: #E8F0FE;\n",
              "      border: none;\n",
              "      border-radius: 50%;\n",
              "      cursor: pointer;\n",
              "      display: none;\n",
              "      fill: #1967D2;\n",
              "      height: 32px;\n",
              "      padding: 0 0 0 0;\n",
              "      width: 32px;\n",
              "    }\n",
              "\n",
              "    .colab-df-convert:hover {\n",
              "      background-color: #E2EBFA;\n",
              "      box-shadow: 0px 1px 2px rgba(60, 64, 67, 0.3), 0px 1px 3px 1px rgba(60, 64, 67, 0.15);\n",
              "      fill: #174EA6;\n",
              "    }\n",
              "\n",
              "    [theme=dark] .colab-df-convert {\n",
              "      background-color: #3B4455;\n",
              "      fill: #D2E3FC;\n",
              "    }\n",
              "\n",
              "    [theme=dark] .colab-df-convert:hover {\n",
              "      background-color: #434B5C;\n",
              "      box-shadow: 0px 1px 3px 1px rgba(0, 0, 0, 0.15);\n",
              "      filter: drop-shadow(0px 1px 2px rgba(0, 0, 0, 0.3));\n",
              "      fill: #FFFFFF;\n",
              "    }\n",
              "  </style>\n",
              "\n",
              "      <script>\n",
              "        const buttonEl =\n",
              "          document.querySelector('#df-46207385-f7f7-4751-a1db-7eebc810c544 button.colab-df-convert');\n",
              "        buttonEl.style.display =\n",
              "          google.colab.kernel.accessAllowed ? 'block' : 'none';\n",
              "\n",
              "        async function convertToInteractive(key) {\n",
              "          const element = document.querySelector('#df-46207385-f7f7-4751-a1db-7eebc810c544');\n",
              "          const dataTable =\n",
              "            await google.colab.kernel.invokeFunction('convertToInteractive',\n",
              "                                                     [key], {});\n",
              "          if (!dataTable) return;\n",
              "\n",
              "          const docLinkHtml = 'Like what you see? Visit the ' +\n",
              "            '<a target=\"_blank\" href=https://colab.research.google.com/notebooks/data_table.ipynb>data table notebook</a>'\n",
              "            + ' to learn more about interactive tables.';\n",
              "          element.innerHTML = '';\n",
              "          dataTable['output_type'] = 'display_data';\n",
              "          await google.colab.output.renderOutput(dataTable, element);\n",
              "          const docLink = document.createElement('div');\n",
              "          docLink.innerHTML = docLinkHtml;\n",
              "          element.appendChild(docLink);\n",
              "        }\n",
              "      </script>\n",
              "    </div>\n",
              "  </div>\n",
              "  "
            ],
            "text/plain": [
              "                                                   uuid  cough_detected  \\\n",
              "status                                                                    \n",
              "COVID-19    22051  cd65f53b-5d48-4b6d-8f13-5ac619d81108          0.5202   \n",
              "            22164  ce8ccb5f-c7a3-48e1-839a-a9c4cd71ab3a          1.0000   \n",
              "            18293  aa6fd1f1-ef61-4aba-9db6-18e625736b9f          0.7532   \n",
              "            19505  b57e5d14-8c3a-415b-89a6-79befe87330c          0.5801   \n",
              "            9784   5b0be374-28d0-4a16-b010-0c18a460a7d4          1.0000   \n",
              "...                                                 ...             ...   \n",
              "symptomatic 12609  74acb252-1606-40dd-981d-d60fe9660aeb          0.9960   \n",
              "            10187  5ee6a648-fd4a-440f-abca-80b27991f444          0.9966   \n",
              "            6993   412abb18-7ead-402e-a18b-7aa0d5fabf44          0.9704   \n",
              "            2304   15704523-4a4e-43f0-9b25-47d6a674f9ff          1.0000   \n",
              "            12097  702283b1-9cd9-4da7-8695-54f619a5daf4          0.9717   \n",
              "\n",
              "                                                            Filepath  \\\n",
              "status                                                                 \n",
              "COVID-19    22051  public_dataset/cd65f53b-5d48-4b6d-8f13-5ac619d...   \n",
              "            22164  public_dataset/ce8ccb5f-c7a3-48e1-839a-a9c4cd7...   \n",
              "            18293  public_dataset/aa6fd1f1-ef61-4aba-9db6-18e6257...   \n",
              "            19505  public_dataset/b57e5d14-8c3a-415b-89a6-79befe8...   \n",
              "            9784   public_dataset/5b0be374-28d0-4a16-b010-0c18a46...   \n",
              "...                                                              ...   \n",
              "symptomatic 12609  public_dataset/74acb252-1606-40dd-981d-d60fe96...   \n",
              "            10187  public_dataset/5ee6a648-fd4a-440f-abca-80b2799...   \n",
              "            6993   public_dataset/412abb18-7ead-402e-a18b-7aa0d5f...   \n",
              "            2304   public_dataset/15704523-4a4e-43f0-9b25-47d6a67...   \n",
              "            12097  public_dataset/702283b1-9cd9-4da7-8695-54f619a...   \n",
              "\n",
              "                        status  \n",
              "status                          \n",
              "COVID-19    22051     COVID-19  \n",
              "            22164     COVID-19  \n",
              "            18293     COVID-19  \n",
              "            19505     COVID-19  \n",
              "            9784      COVID-19  \n",
              "...                        ...  \n",
              "symptomatic 12609  symptomatic  \n",
              "            10187  symptomatic  \n",
              "            6993   symptomatic  \n",
              "            2304   symptomatic  \n",
              "            12097  symptomatic  \n",
              "\n",
              "[2505 rows x 4 columns]"
            ]
          },
          "execution_count": 20,
          "metadata": {},
          "output_type": "execute_result"
        }
      ],
      "source": [
        "data"
      ]
    },
    {
      "cell_type": "markdown",
      "metadata": {
        "id": "TMEidA5uE4O-"
      },
      "source": [
        "##Feature Extraction and Saving Mel-Spectrograms"
      ]
    },
    {
      "cell_type": "markdown",
      "metadata": {
        "id": "Zp5_KifJGXP3"
      },
      "source": [
        "Though there are different kind of audio features can be extracted, but I chose to extract Mel-Frequency Cepstral Coefficients (MFCC). MFCCs encode timbral information. Other research articles also used MFFC of cough audio to diagnose different kind of health conditions. "
      ]
    },
    {
      "cell_type": "code",
      "execution_count": null,
      "metadata": {
        "id": "PuyOicDpUWXS"
      },
      "outputs": [],
      "source": [
        "import os\n",
        "from tqdm import tqdm"
      ]
    },
    {
      "cell_type": "code",
      "execution_count": null,
      "metadata": {
        "id": "yg-WvLefZw9c"
      },
      "outputs": [],
      "source": [
        "if input()==\"YES\":\n",
        "   import shutil\n",
        "   shutil.rmtree('MFCCS')\n"
      ]
    },
    {
      "cell_type": "code",
      "execution_count": null,
      "metadata": {
        "id": "cQT1-M6-UAfT"
      },
      "outputs": [],
      "source": [
        "destination=\"MFCCS/\"\n",
        "os.makedirs('MFCCS/Mel_Spectrogram/COVID-19')\n",
        "os.makedirs('MFCCS/MFCC1/COVID-19')\n"
      ]
    },
    {
      "cell_type": "code",
      "execution_count": null,
      "metadata": {
        "id": "bqJCbkw7dAf0"
      },
      "outputs": [],
      "source": [
        "os.mkdir('MFCCS/Mel_Spectrogram/healthy')\n",
        "os.mkdir('MFCCS/MFCC1/healthy')"
      ]
    },
    {
      "cell_type": "code",
      "execution_count": null,
      "metadata": {
        "id": "PRp75DbsdRO-"
      },
      "outputs": [],
      "source": [
        "os.mkdir('MFCCS/Mel_Spectrogram/symptomatic')\n",
        "os.mkdir('MFCCS/MFCC1/symptomatic')"
      ]
    },
    {
      "cell_type": "code",
      "execution_count": null,
      "metadata": {
        "id": "CVvd99BRTUkt"
      },
      "outputs": [],
      "source": [
        "def prepare_dataset(destination, sr=SAMPLE_RATE):\n",
        "    for i,x in tqdm(data.iterrows()):\n",
        "        filename = x[\"Filepath\"]\n",
        "        label = x[\"status\"]\n",
        "        uuid = x[\"uuid\"]\n",
        "        if label==\"symptomatic\":\n",
        "            try:\n",
        "                x, sr = librosa.load(filename+\".webm\", sr = sr)\n",
        "            except:\n",
        "                try:\n",
        "                    x, sr = librosa.load(filename+\".ogg\", sr = sr)\n",
        "                except:\n",
        "                    print(\"File does not exist\")\n",
        "            cough_segments, cough_mask = segment_cough(x,sr, cough_padding=0)\n",
        "            dest = destination+\"Mel_Spectrogram/\"+label+\"/\"+uuid+\".png\"\n",
        "            if Path(dest).is_file():\n",
        "                continue\n",
        "            else:\n",
        "                if(len(cough_segments)>0):\n",
        "                    mel_spec = librosa.feature.melspectrogram(cough_segments[0] , sr = sr, n_fft = 2048, hop_length = 512, n_mels = 90)\n",
        "                    log_mel_spec = librosa.power_to_db(mel_spec)\n",
        "                    fig = plt.figure(figsize=(25,10))\n",
        "                    librosa.display.specshow(log_mel_spec,\n",
        "                                      x_axis=\"time\",\n",
        "                                      y_axis=\"mel\",\n",
        "                                      sr=SAMPLE_RATE)\n",
        "                    plt.savefig(dest)\n",
        "                    plt.close()\n",
        "            dest = destination+\"MFCC1/\"+label+\"/\"+uuid+\".png\"\n",
        "            if Path(dest).is_file():\n",
        "                continue\n",
        "            else:\n",
        "                if(len(cough_segments)>0):\n",
        "                    mfcc = librosa.feature.mfcc(cough_segments[0] , sr = sr, n_mfcc=13)\n",
        "                    fig = plt.figure(figsize=(25,10))\n",
        "                    librosa.display.specshow(mfcc,\n",
        "                                      x_axis=\"time\",\n",
        "                                      sr=sr)\n",
        "                    plt.savefig(dest)\n",
        "                    plt.close()"
      ]
    },
    {
      "cell_type": "code",
      "execution_count": null,
      "metadata": {
        "id": "Erqpf_JhTzDH"
      },
      "outputs": [],
      "source": [
        "prepare_dataset(destination)"
      ]
    },
    {
      "cell_type": "markdown",
      "metadata": {
        "id": "KTZLWpJohKQZ"
      },
      "source": [
        "## Save MFCCS to google drive"
      ]
    },
    {
      "cell_type": "code",
      "execution_count": null,
      "metadata": {
        "id": "8PciGpk7hPjk",
        "colab": {
          "base_uri": "https://localhost:8080/"
        },
        "outputId": "54d351b5-48bb-4777-823e-f065918711ff"
      },
      "outputs": [
        {
          "output_type": "stream",
          "name": "stdout",
          "text": [
            "Mounted at /content/drive\n"
          ]
        }
      ],
      "source": [
        "from google.colab import drive\n",
        "drive.mount('/content/drive')"
      ]
    },
    {
      "cell_type": "code",
      "execution_count": null,
      "metadata": {
        "id": "3CQXbRtdhlPV",
        "colab": {
          "base_uri": "https://localhost:8080/"
        },
        "outputId": "fc53d99a-7d60-4a87-c605-b380a7d4b0d1"
      },
      "outputs": [
        {
          "output_type": "stream",
          "name": "stdout",
          "text": [
            "cp: cannot stat 'MFCCS/MFCC1/symptomatic': No such file or directory\n"
          ]
        }
      ],
      "source": [
        "!cp -r \"MFCCS/MFCC1/symptomatic\" \"/content/drive/My Drive/MFCC/symptomatic\""
      ]
    },
    {
      "cell_type": "code",
      "execution_count": null,
      "metadata": {
        "id": "ccinQxVglgfT"
      },
      "outputs": [],
      "source": [
        ""
      ]
    },
    {
      "cell_type": "code",
      "execution_count": null,
      "metadata": {
        "id": "63cs5feiazyp"
      },
      "outputs": [],
      "source": [
        ""
      ]
    },
    {
      "cell_type": "markdown",
      "metadata": {
        "id": "0njKWdyShvn2"
      },
      "source": [
        "## Load Data from Google Drive"
      ]
    },
    {
      "cell_type": "code",
      "execution_count": null,
      "metadata": {
        "colab": {
          "base_uri": "https://localhost:8080/"
        },
        "id": "tjnEKyOMhz9p",
        "outputId": "0c477924-bf55-4407-e2dd-5c8b72767acd"
      },
      "outputs": [
        {
          "output_type": "stream",
          "name": "stdout",
          "text": [
            "Drive already mounted at /content/drive; to attempt to forcibly remount, call drive.mount(\"/content/drive\", force_remount=True).\n"
          ]
        }
      ],
      "source": [
        "from google.colab import drive\n",
        "drive.mount('/content/drive')"
      ]
    },
    {
      "cell_type": "code",
      "execution_count": null,
      "metadata": {
        "id": "hHP3_x6ZiSHK"
      },
      "outputs": [],
      "source": [
        "covid_path= '/content/drive/My Drive/MFCC/Covid/COVID-19'\n",
        "healthy_path = '/content/drive/My Drive/MFCC/healthy'\n",
        "symptomatic_path = '/content/drive/My Drive/MFCC/symptomatic'"
      ]
    },
    {
      "cell_type": "markdown",
      "metadata": {
        "id": "WF9H5IR2j8lH"
      },
      "source": [
        "## Training"
      ]
    },
    {
      "cell_type": "code",
      "execution_count": null,
      "metadata": {
        "id": "ZeJagKW_j_zd"
      },
      "outputs": [],
      "source": [
        "import numpy as np\n",
        "import pandas as pd\n",
        "import os\n",
        "import matplotlib.pyplot as plt\n",
        "\n",
        "import random\n",
        "import keras\n",
        "from keras.models import Sequential\n",
        "import time\n",
        "from tensorflow.keras.optimizers import Adam,RMSprop\n",
        "from keras.layers import Dropout,Conv2D, ZeroPadding2D, Activation, Input, concatenate\n",
        "from keras.models import Model\n",
        "import seaborn as sns\n",
        "from keras.layers import BatchNormalization\n",
        "from keras.layers.pooling import MaxPooling2D\n",
        "from keras.layers.core import Lambda, Flatten, Dense\n",
        "from keras.initializers import glorot_uniform\n",
        "from keras.optimizers import *\n",
        "from keras.layers import Layer\n",
        "from keras import backend as K\n",
        "from keras.regularizers import l2\n",
        "import pandas as pd\n",
        "import cv2 as cv\n",
        "from keras.preprocessing.image import ImageDataGenerator"
      ]
    },
    {
      "cell_type": "markdown",
      "metadata": {
        "id": "c30GjpZ0FLS-"
      },
      "source": [
        "##File path for MFCC spectrograms"
      ]
    },
    {
      "cell_type": "code",
      "execution_count": null,
      "metadata": {
        "id": "nZBd4GzDkCu7"
      },
      "outputs": [],
      "source": [
        "covid_model = covid_path + '/0eba0c0a-5609-4777-903d-b15292798250.png'\n",
        "healthy_model = healthy_path + '/0cb18590-3107-42dc-b0ca-63b897f15a8b.png'\n",
        "symptomatic_model = symptomatic_path + '/0eef6d8c-73f0-4c59-8155-3786687f5ff0.png'"
      ]
    },
    {
      "cell_type": "markdown",
      "metadata": {
        "id": "KkW0TEfyFd3v"
      },
      "source": [
        "##Preparing DataFrame from Spectrogram Images "
      ]
    },
    {
      "cell_type": "markdown",
      "metadata": {
        "id": "IcmoQ1T6TlRy"
      },
      "source": [
        "Since my Siamese Network model requires two images in each step, I created some positive pairs and some negative pair of training images. Positive pairs mean, the two images belong to the same class and negative pair means, they do not belong to the same class. Here I created the label Y as '0' for positive class and '1' for negative classes. The model predict method finds the distance between the two input images. "
      ]
    },
    {
      "cell_type": "code",
      "execution_count": null,
      "metadata": {
        "id": "w_iJdH4Ql4SG"
      },
      "outputs": [],
      "source": [
        "df = pd.DataFrame()"
      ]
    },
    {
      "cell_type": "code",
      "execution_count": null,
      "metadata": {
        "id": "s5qsFN95l8Xd"
      },
      "outputs": [],
      "source": [
        "X1 = []\n",
        "X2 = []\n",
        "Y = []\n",
        "\n",
        "for file in os.listdir(covid_path):\n",
        "  X1.append(covid_model)\n",
        "  X2.append(os.path.join(covid_path,file))\n",
        "  Y.append(0)\n",
        "\n",
        "for file in os.listdir(healthy_path):\n",
        "  X1.append(healthy_model)\n",
        "  X2.append(os.path.join(healthy_path,file))\n",
        "  Y.append(0)\n",
        "\n",
        "for file in os.listdir(symptomatic_path):\n",
        "  X1.append(symptomatic_model)\n",
        "  X2.append(os.path.join(symptomatic_path,file))\n",
        "  Y.append(0)"
      ]
    },
    {
      "cell_type": "code",
      "execution_count": null,
      "metadata": {
        "colab": {
          "base_uri": "https://localhost:8080/"
        },
        "id": "nKAlU9AxmAaR",
        "outputId": "e15f3fb7-c683-47d3-9ab0-806ae322e0b5"
      },
      "outputs": [
        {
          "output_type": "execute_result",
          "data": {
            "text/plain": [
              "(2231, 2231, 2231)"
            ]
          },
          "metadata": {},
          "execution_count": 9
        }
      ],
      "source": [
        "len(X1),len(X2),len(Y)"
      ]
    },
    {
      "cell_type": "code",
      "execution_count": null,
      "metadata": {
        "id": "DuBsbS_umTS5"
      },
      "outputs": [],
      "source": [
        "for file in os.listdir(covid_path):\n",
        "  X1.append(healthy_model)\n",
        "  X1.append(symptomatic_model)\n",
        "  X2.append(os.path.join(covid_path,file))\n",
        "  X2.append(os.path.join(covid_path,file))\n",
        "  Y.append(1)\n",
        "  Y.append(1)\n",
        "\n",
        "for file in os.listdir(healthy_path):\n",
        "  X1.append(covid_model)\n",
        "  X1.append(symptomatic_model)\n",
        "  X2.append(os.path.join(healthy_path,file))\n",
        "  X2.append(os.path.join(healthy_path,file))\n",
        "  Y.append(1)\n",
        "  Y.append(1)\n",
        "\n",
        "for file in os.listdir(symptomatic_path):\n",
        "  X1.append(healthy_model)\n",
        "  X1.append(covid_model)\n",
        "  X2.append(os.path.join(symptomatic_path,file))\n",
        "  X2.append(os.path.join(symptomatic_path,file))\n",
        "  Y.append(1)\n",
        "  Y.append(1)"
      ]
    },
    {
      "cell_type": "code",
      "execution_count": null,
      "metadata": {
        "colab": {
          "base_uri": "https://localhost:8080/"
        },
        "id": "m_ElYyhdffpl",
        "outputId": "c53d9742-8453-4fab-bd7f-39b0292c5f4f"
      },
      "outputs": [
        {
          "output_type": "execute_result",
          "data": {
            "text/plain": [
              "(6693, 6693, 6693)"
            ]
          },
          "metadata": {},
          "execution_count": 11
        }
      ],
      "source": [
        "len(X1),len(X2),len(Y)"
      ]
    },
    {
      "cell_type": "code",
      "execution_count": null,
      "metadata": {
        "colab": {
          "base_uri": "https://localhost:8080/"
        },
        "id": "AmMH2-N2kNfz",
        "outputId": "fffba43a-aee9-4af1-e73d-212001579675"
      },
      "outputs": [
        {
          "output_type": "execute_result",
          "data": {
            "text/plain": [
              "12"
            ]
          },
          "metadata": {},
          "execution_count": 12
        }
      ],
      "source": [
        "(6693+2231)%16"
      ]
    },
    {
      "cell_type": "code",
      "execution_count": null,
      "metadata": {
        "id": "yMz3HeaYmbmA"
      },
      "outputs": [],
      "source": [
        "df[\"X1\"] = X1\n",
        "df[\"X2\"] = X2\n",
        "df[\"Y\"] = Y"
      ]
    },
    {
      "cell_type": "code",
      "execution_count": null,
      "metadata": {
        "id": "wMm5z4Hwmfv_"
      },
      "outputs": [],
      "source": [
        "df = df.sample(frac=1).reset_index(drop=True)"
      ]
    },
    {
      "cell_type": "code",
      "execution_count": null,
      "metadata": {
        "colab": {
          "base_uri": "https://localhost:8080/",
          "height": 206
        },
        "id": "8gPPbHdU53bj",
        "outputId": "97636a6e-3ba1-4934-9ca1-50ec0d2b061b"
      },
      "outputs": [
        {
          "output_type": "execute_result",
          "data": {
            "text/plain": [
              "                                                  X1  \\\n",
              "0  /content/drive/My Drive/MFCC/healthy/0cb18590-...   \n",
              "1  /content/drive/My Drive/MFCC/Covid/COVID-19/0e...   \n",
              "2  /content/drive/My Drive/MFCC/symptomatic/0eef6...   \n",
              "3  /content/drive/My Drive/MFCC/healthy/0cb18590-...   \n",
              "4  /content/drive/My Drive/MFCC/symptomatic/0eef6...   \n",
              "\n",
              "                                                  X2  Y  \n",
              "0  /content/drive/My Drive/MFCC/symptomatic/85d27...  1  \n",
              "1  /content/drive/My Drive/MFCC/Covid/COVID-19/74...  0  \n",
              "2  /content/drive/My Drive/MFCC/symptomatic/19654...  0  \n",
              "3  /content/drive/My Drive/MFCC/Covid/COVID-19/ad...  1  \n",
              "4  /content/drive/My Drive/MFCC/healthy/73333129-...  1  "
            ],
            "text/html": [
              "\n",
              "  <div id=\"df-0829364a-f43b-46cf-af33-4d9a6845270d\">\n",
              "    <div class=\"colab-df-container\">\n",
              "      <div>\n",
              "<style scoped>\n",
              "    .dataframe tbody tr th:only-of-type {\n",
              "        vertical-align: middle;\n",
              "    }\n",
              "\n",
              "    .dataframe tbody tr th {\n",
              "        vertical-align: top;\n",
              "    }\n",
              "\n",
              "    .dataframe thead th {\n",
              "        text-align: right;\n",
              "    }\n",
              "</style>\n",
              "<table border=\"1\" class=\"dataframe\">\n",
              "  <thead>\n",
              "    <tr style=\"text-align: right;\">\n",
              "      <th></th>\n",
              "      <th>X1</th>\n",
              "      <th>X2</th>\n",
              "      <th>Y</th>\n",
              "    </tr>\n",
              "  </thead>\n",
              "  <tbody>\n",
              "    <tr>\n",
              "      <th>0</th>\n",
              "      <td>/content/drive/My Drive/MFCC/healthy/0cb18590-...</td>\n",
              "      <td>/content/drive/My Drive/MFCC/symptomatic/85d27...</td>\n",
              "      <td>1</td>\n",
              "    </tr>\n",
              "    <tr>\n",
              "      <th>1</th>\n",
              "      <td>/content/drive/My Drive/MFCC/Covid/COVID-19/0e...</td>\n",
              "      <td>/content/drive/My Drive/MFCC/Covid/COVID-19/74...</td>\n",
              "      <td>0</td>\n",
              "    </tr>\n",
              "    <tr>\n",
              "      <th>2</th>\n",
              "      <td>/content/drive/My Drive/MFCC/symptomatic/0eef6...</td>\n",
              "      <td>/content/drive/My Drive/MFCC/symptomatic/19654...</td>\n",
              "      <td>0</td>\n",
              "    </tr>\n",
              "    <tr>\n",
              "      <th>3</th>\n",
              "      <td>/content/drive/My Drive/MFCC/healthy/0cb18590-...</td>\n",
              "      <td>/content/drive/My Drive/MFCC/Covid/COVID-19/ad...</td>\n",
              "      <td>1</td>\n",
              "    </tr>\n",
              "    <tr>\n",
              "      <th>4</th>\n",
              "      <td>/content/drive/My Drive/MFCC/symptomatic/0eef6...</td>\n",
              "      <td>/content/drive/My Drive/MFCC/healthy/73333129-...</td>\n",
              "      <td>1</td>\n",
              "    </tr>\n",
              "  </tbody>\n",
              "</table>\n",
              "</div>\n",
              "      <button class=\"colab-df-convert\" onclick=\"convertToInteractive('df-0829364a-f43b-46cf-af33-4d9a6845270d')\"\n",
              "              title=\"Convert this dataframe to an interactive table.\"\n",
              "              style=\"display:none;\">\n",
              "        \n",
              "  <svg xmlns=\"http://www.w3.org/2000/svg\" height=\"24px\"viewBox=\"0 0 24 24\"\n",
              "       width=\"24px\">\n",
              "    <path d=\"M0 0h24v24H0V0z\" fill=\"none\"/>\n",
              "    <path d=\"M18.56 5.44l.94 2.06.94-2.06 2.06-.94-2.06-.94-.94-2.06-.94 2.06-2.06.94zm-11 1L8.5 8.5l.94-2.06 2.06-.94-2.06-.94L8.5 2.5l-.94 2.06-2.06.94zm10 10l.94 2.06.94-2.06 2.06-.94-2.06-.94-.94-2.06-.94 2.06-2.06.94z\"/><path d=\"M17.41 7.96l-1.37-1.37c-.4-.4-.92-.59-1.43-.59-.52 0-1.04.2-1.43.59L10.3 9.45l-7.72 7.72c-.78.78-.78 2.05 0 2.83L4 21.41c.39.39.9.59 1.41.59.51 0 1.02-.2 1.41-.59l7.78-7.78 2.81-2.81c.8-.78.8-2.07 0-2.86zM5.41 20L4 18.59l7.72-7.72 1.47 1.35L5.41 20z\"/>\n",
              "  </svg>\n",
              "      </button>\n",
              "      \n",
              "  <style>\n",
              "    .colab-df-container {\n",
              "      display:flex;\n",
              "      flex-wrap:wrap;\n",
              "      gap: 12px;\n",
              "    }\n",
              "\n",
              "    .colab-df-convert {\n",
              "      background-color: #E8F0FE;\n",
              "      border: none;\n",
              "      border-radius: 50%;\n",
              "      cursor: pointer;\n",
              "      display: none;\n",
              "      fill: #1967D2;\n",
              "      height: 32px;\n",
              "      padding: 0 0 0 0;\n",
              "      width: 32px;\n",
              "    }\n",
              "\n",
              "    .colab-df-convert:hover {\n",
              "      background-color: #E2EBFA;\n",
              "      box-shadow: 0px 1px 2px rgba(60, 64, 67, 0.3), 0px 1px 3px 1px rgba(60, 64, 67, 0.15);\n",
              "      fill: #174EA6;\n",
              "    }\n",
              "\n",
              "    [theme=dark] .colab-df-convert {\n",
              "      background-color: #3B4455;\n",
              "      fill: #D2E3FC;\n",
              "    }\n",
              "\n",
              "    [theme=dark] .colab-df-convert:hover {\n",
              "      background-color: #434B5C;\n",
              "      box-shadow: 0px 1px 3px 1px rgba(0, 0, 0, 0.15);\n",
              "      filter: drop-shadow(0px 1px 2px rgba(0, 0, 0, 0.3));\n",
              "      fill: #FFFFFF;\n",
              "    }\n",
              "  </style>\n",
              "\n",
              "      <script>\n",
              "        const buttonEl =\n",
              "          document.querySelector('#df-0829364a-f43b-46cf-af33-4d9a6845270d button.colab-df-convert');\n",
              "        buttonEl.style.display =\n",
              "          google.colab.kernel.accessAllowed ? 'block' : 'none';\n",
              "\n",
              "        async function convertToInteractive(key) {\n",
              "          const element = document.querySelector('#df-0829364a-f43b-46cf-af33-4d9a6845270d');\n",
              "          const dataTable =\n",
              "            await google.colab.kernel.invokeFunction('convertToInteractive',\n",
              "                                                     [key], {});\n",
              "          if (!dataTable) return;\n",
              "\n",
              "          const docLinkHtml = 'Like what you see? Visit the ' +\n",
              "            '<a target=\"_blank\" href=https://colab.research.google.com/notebooks/data_table.ipynb>data table notebook</a>'\n",
              "            + ' to learn more about interactive tables.';\n",
              "          element.innerHTML = '';\n",
              "          dataTable['output_type'] = 'display_data';\n",
              "          await google.colab.output.renderOutput(dataTable, element);\n",
              "          const docLink = document.createElement('div');\n",
              "          docLink.innerHTML = docLinkHtml;\n",
              "          element.appendChild(docLink);\n",
              "        }\n",
              "      </script>\n",
              "    </div>\n",
              "  </div>\n",
              "  "
            ]
          },
          "metadata": {},
          "execution_count": 15
        }
      ],
      "source": [
        "df.head()"
      ]
    },
    {
      "cell_type": "markdown",
      "metadata": {
        "id": "FD4MHSaHGvXt"
      },
      "source": [
        "##Data generator for training and training"
      ]
    },
    {
      "cell_type": "code",
      "execution_count": null,
      "metadata": {
        "id": "sh31lZeZmiiI"
      },
      "outputs": [],
      "source": [
        "from sklearn.model_selection import train_test_split\n",
        "\n",
        "train, test = train_test_split(df, test_size = 0.2)"
      ]
    },
    {
      "cell_type": "code",
      "execution_count": null,
      "metadata": {
        "id": "Ocmi_FTTmlWA"
      },
      "outputs": [],
      "source": [
        "input_imgen = ImageDataGenerator(rescale = 1./255)\n",
        "\n",
        "test_imgen = ImageDataGenerator(rescale = 1./255)\n",
        "\n",
        "\n",
        "\n",
        "def generate_generator_multiple(generator,df, batch_size, img_height,img_width):\n",
        "    genX1 = generator.flow_from_dataframe(df,\n",
        "                                          directory = None,\n",
        "                                          x_col = \"X1\",\n",
        "                                          y_col = \"Y\",\n",
        "                                          color_mode = \"grayscale\",\n",
        "                                          target_size = (img_height,img_width),\n",
        "                                          class_mode = 'raw',\n",
        "                                          batch_size = batch_size,\n",
        "                                          shuffle=False, \n",
        "                                          seed=7)\n",
        "    \n",
        "    genX2 = generator.flow_from_dataframe(df,\n",
        "                                          directory = None,\n",
        "                                          x_col = \"X2\",\n",
        "                                          y_col = \"Y\",\n",
        "                                          color_mode = \"grayscale\",\n",
        "                                          target_size = (img_height,img_width),\n",
        "                                          class_mode = 'raw',\n",
        "                                          batch_size = batch_size,\n",
        "                                          shuffle=False, \n",
        "                                          seed=7)\n",
        "    while True:\n",
        "            X1i = genX1.next()\n",
        "            X2i = genX2.next()\n",
        "            yield [X1i[0], X2i[0]], X2i[1]  #Yield both images and their mutual label\n",
        "            \n",
        "batch_size = 32\n",
        "img_height = 300\n",
        "img_width = 300\n",
        "\n",
        "inputgenerator=generate_generator_multiple(generator=input_imgen,\n",
        "                                           df = train,\n",
        "                                           batch_size=batch_size,\n",
        "                                           img_height=img_height,\n",
        "                                           img_width=img_width)"
      ]
    },
    {
      "cell_type": "markdown",
      "metadata": {
        "id": "XyYTVUlgHDhg"
      },
      "source": [
        "#Models"
      ]
    },
    {
      "cell_type": "markdown",
      "metadata": {
        "id": "X5bRjqBXyuw9"
      },
      "source": [
        "I chose Simaese network model as the sample size for each class was small. "
      ]
    },
    {
      "cell_type": "markdown",
      "metadata": {
        "id": "J_ZZbiCftgyW"
      },
      "source": [
        "##Model_1"
      ]
    },
    {
      "cell_type": "markdown",
      "metadata": {
        "id": "KhVdpQISljCX"
      },
      "source": [
        "I have two Conv2 layer, one fully connected layer with 128 neurons with total 43,675,137 parameters. With this model I got training accuracy around 80% and validation accuracy around 80% for Covid-19, between 60-70% for symptomatic and around 50% for healthy classes.\n",
        " "
      ]
    },
    {
      "cell_type": "code",
      "execution_count": null,
      "metadata": {
        "id": "fJiltFcFmu4i"
      },
      "outputs": [],
      "source": [
        "def create_model(input_shape):\n",
        "  left_input = Input(input_shape)\n",
        "  right_input = Input(input_shape)\n",
        "  model = Sequential()\n",
        "\n",
        "  model.add(Conv2D(32, kernel_size=(3, 3), input_shape=input_shape))\n",
        "  model.add(BatchNormalization())\n",
        "  model.add(Activation(activation='relu'))\n",
        "  model.add(MaxPooling2D(pool_size=(2, 2)))\n",
        "\n",
        "  model.add(Conv2D(64, kernel_size=(3, 3)))\n",
        "  model.add(BatchNormalization())\n",
        "  model.add(Activation(activation='relu'))\n",
        "  model.add(MaxPooling2D(pool_size=(2, 2)))\n",
        "\n",
        "  model.add(Flatten())\n",
        "  model.add(Dense(128))\n",
        "  model.add(BatchNormalization())\n",
        "  model.add(Activation(activation='relu'))\n",
        "\n",
        "  encoded_l = model(left_input)\n",
        "  encoded_r = model(right_input)\n",
        "\n",
        "  L1_layer = Lambda(lambda tensors:K.abs(tensors[0] - tensors[1]))\n",
        "  L1_distance = L1_layer([encoded_l, encoded_r])\n",
        "  prediction = Dense(1,activation='sigmoid')(L1_distance)\n",
        "\n",
        " \n",
        "\n",
        "  siamese_net = Model(inputs=[left_input,right_input],outputs=prediction)\n",
        "\n",
        "  return siamese_net"
      ]
    },
    {
      "cell_type": "markdown",
      "metadata": {
        "id": "THIzE34UnXbG"
      },
      "source": [
        "##Model_2\n"
      ]
    },
    {
      "cell_type": "markdown",
      "metadata": {
        "id": "TBOhugTkttBf"
      },
      "source": [
        "As there was huge difference between training (80%) and validation (65%) accuracy with model_1. To rectify the overfitting, I modified the model_1 with adding a Dropout layer and increasing neurons to 256."
      ]
    },
    {
      "cell_type": "code",
      "execution_count": null,
      "metadata": {
        "id": "5_RKep-HnVfL"
      },
      "outputs": [],
      "source": [
        "def create_model_2(input_shape):\n",
        "  left_input = Input(input_shape)\n",
        "  right_input = Input(input_shape)\n",
        "  model = Sequential()\n",
        "\n",
        "  model.add(Conv2D(32, kernel_size=(3, 3), input_shape=input_shape))\n",
        "  model.add(BatchNormalization())\n",
        "  model.add(Activation(activation='relu'))\n",
        "  model.add(MaxPooling2D(pool_size=(2, 2)))\n",
        "  \n",
        "\n",
        "  model.add(Conv2D(64, kernel_size=(3, 3)))\n",
        "  model.add(BatchNormalization())\n",
        "  model.add(Activation(activation='relu'))\n",
        "  model.add(MaxPooling2D(pool_size=(2, 2)))\n",
        "  model.add(Dropout(0.5))\n",
        "\n",
        "  model.add(Conv2D(128, kernel_size=(3, 3)))\n",
        "  model.add(BatchNormalization())\n",
        "  model.add(Activation(activation='relu'))\n",
        "  model.add(MaxPooling2D(pool_size=(2, 2)))\n",
        "\n",
        "  model.add(Flatten())\n",
        "  model.add(Dense(512))\n",
        "  model.add(BatchNormalization())\n",
        "  model.add(Activation(activation='relu'))\n",
        "\n",
        "  model.add(Dense(256)) \n",
        "  model.add(BatchNormalization())\n",
        "  model.add(Activation(activation='relu'))\n",
        "  model.add(Dropout(0.5))\n",
        "\n",
        "  encoded_l = model(left_input)\n",
        "  encoded_r = model(right_input)\n",
        "\n",
        "  L1_layer = Lambda(lambda tensors:K.abs(tensors[0] - tensors[1]))\n",
        "  L1_distance = L1_layer([encoded_l, encoded_r])\n",
        "  prediction = Dense(1,activation='sigmoid')(L1_distance)\n",
        "\n",
        " \n",
        "\n",
        "  siamese_net = Model(inputs=[left_input,right_input],outputs=prediction)\n",
        "\n",
        "  return siamese_net"
      ]
    },
    {
      "cell_type": "code",
      "execution_count": null,
      "metadata": {
        "id": "jGzQ30orgUum"
      },
      "outputs": [],
      "source": [
        "#from keras import backend"
      ]
    },
    {
      "cell_type": "code",
      "execution_count": null,
      "metadata": {
        "colab": {
          "base_uri": "https://localhost:8080/"
        },
        "id": "qa3UpH0Dm227",
        "outputId": "f35b0767-5a32-4fd7-c5aa-6e71711b45db"
      },
      "outputs": [
        {
          "name": "stdout",
          "output_type": "stream",
          "text": [
            "Model: \"model\"\n",
            "__________________________________________________________________________________________________\n",
            " Layer (type)                   Output Shape         Param #     Connected to                     \n",
            "==================================================================================================\n",
            " input_1 (InputLayer)           [(None, 300, 300, 1  0           []                               \n",
            "                                )]                                                                \n",
            "                                                                                                  \n",
            " input_2 (InputLayer)           [(None, 300, 300, 1  0           []                               \n",
            "                                )]                                                                \n",
            "                                                                                                  \n",
            " sequential (Sequential)        (None, 128)          43675008    ['input_1[0][0]',                \n",
            "                                                                  'input_2[0][0]']                \n",
            "                                                                                                  \n",
            " lambda (Lambda)                (None, 128)          0           ['sequential[0][0]',             \n",
            "                                                                  'sequential[1][0]']             \n",
            "                                                                                                  \n",
            " dense_1 (Dense)                (None, 1)            129         ['lambda[0][0]']                 \n",
            "                                                                                                  \n",
            "==================================================================================================\n",
            "Total params: 43,675,137\n",
            "Trainable params: 43,674,689\n",
            "Non-trainable params: 448\n",
            "__________________________________________________________________________________________________\n"
          ]
        }
      ],
      "source": [
        "model=create_model((300, 300, 1))\n",
        "\n",
        "model.summary()"
      ]
    },
    {
      "cell_type": "code",
      "execution_count": null,
      "metadata": {
        "colab": {
          "base_uri": "https://localhost:8080/"
        },
        "id": "K2OHLGyordjc",
        "outputId": "6ebf008b-9547-482f-f519-5317fe348769"
      },
      "outputs": [
        {
          "output_type": "stream",
          "name": "stdout",
          "text": [
            "Model: \"model\"\n",
            "__________________________________________________________________________________________________\n",
            " Layer (type)                   Output Shape         Param #     Connected to                     \n",
            "==================================================================================================\n",
            " input_1 (InputLayer)           [(None, 300, 300, 1  0           []                               \n",
            "                                )]                                                                \n",
            "                                                                                                  \n",
            " input_2 (InputLayer)           [(None, 300, 300, 1  0           []                               \n",
            "                                )]                                                                \n",
            "                                                                                                  \n",
            " sequential (Sequential)        (None, 256)          80510080    ['input_1[0][0]',                \n",
            "                                                                  'input_2[0][0]']                \n",
            "                                                                                                  \n",
            " lambda (Lambda)                (None, 256)          0           ['sequential[0][0]',             \n",
            "                                                                  'sequential[1][0]']             \n",
            "                                                                                                  \n",
            " dense_2 (Dense)                (None, 1)            257         ['lambda[0][0]']                 \n",
            "                                                                                                  \n",
            "==================================================================================================\n",
            "Total params: 80,510,337\n",
            "Trainable params: 80,508,353\n",
            "Non-trainable params: 1,984\n",
            "__________________________________________________________________________________________________\n"
          ]
        }
      ],
      "source": [
        "model_2=create_model_2((300, 300, 1))\n",
        "model_2.summary()"
      ]
    },
    {
      "cell_type": "code",
      "execution_count": null,
      "metadata": {
        "id": "sZ34vM86Dqq1"
      },
      "outputs": [],
      "source": [
        "#model_2 optimization\n",
        "optimizer = Adam(learning_rate = 0.0001)\n",
        "model_2.compile(loss='binary_crossentropy', optimizer=optimizer, metrics='accuracy')"
      ]
    },
    {
      "cell_type": "code",
      "execution_count": null,
      "metadata": {
        "colab": {
          "base_uri": "https://localhost:8080/",
          "height": 422
        },
        "id": "05liiBKlnkx9",
        "outputId": "41cf7097-b9cb-47de-82d1-ab8037d97043"
      },
      "outputs": [
        {
          "data": {
            "image/png": "[encoded data removed]",
            "text/plain": [
              "<IPython.core.display.Image object>"
            ]
          },
          "execution_count": 21,
          "metadata": {},
          "output_type": "execute_result"
        }
      ],
      "source": [
        "from keras.utils.vis_utils import plot_model\n",
        "plot_model(model, to_file='model_plot.png', show_shapes=True, show_layer_names=True)"
      ]
    },
    {
      "cell_type": "markdown",
      "metadata": {
        "id": "PFD-qVi3Hyvi"
      },
      "source": [
        "### Ran 30 epochs in cycle of 20 and 10"
      ]
    },
    {
      "cell_type": "code",
      "execution_count": null,
      "metadata": {
        "id": "sw_J39rJnnmA"
      },
      "outputs": [],
      "source": [
        "history=model.fit(inputgenerator,\n",
        "                        steps_per_epoch=len(train)/batch_size,\n",
        "                        epochs = 5,\n",
        "                        use_multiprocessing=True,                        shuffle=false)"
      ]
    },
    {
      "cell_type": "code",
      "execution_count": null,
      "metadata": {
        "colab": {
          "background_save": true,
          "base_uri": "https://localhost:8080/"
        },
        "id": "_dG_U9aMECya",
        "outputId": "fb6be032-d77a-459a-ccd1-d023a1330940"
      },
      "outputs": [
        {
          "name": "stdout",
          "output_type": "stream",
          "text": [
            "Epoch 1/10\n",
            "167/167 [==============================] - 287s 2s/step - loss: 0.6011 - accuracy: 0.6853\n",
            "Epoch 2/10\n",
            "167/167 [==============================] - 287s 2s/step - loss: 0.5993 - accuracy: 0.6774\n",
            "Epoch 3/10\n",
            "167/167 [==============================] - 287s 2s/step - loss: 0.5971 - accuracy: 0.6830\n",
            "Epoch 4/10\n",
            "167/167 [==============================] - 287s 2s/step - loss: 0.5919 - accuracy: 0.6836\n",
            "Epoch 5/10\n",
            "167/167 [==============================] - 287s 2s/step - loss: 0.5878 - accuracy: 0.6944\n",
            "Epoch 6/10\n",
            "167/167 [==============================] - 285s 2s/step - loss: 0.5790 - accuracy: 0.7036\n",
            "Epoch 7/10\n",
            "167/167 [==============================] - 283s 2s/step - loss: 0.5696 - accuracy: 0.7021\n",
            "Epoch 8/10\n",
            "167/167 [==============================] - 285s 2s/step - loss: 0.5650 - accuracy: 0.7114\n",
            "Epoch 9/10\n",
            "167/167 [==============================] - 285s 2s/step - loss: 0.5563 - accuracy: 0.7230\n",
            "Epoch 10/10\n",
            "167/167 [==============================] - 287s 2s/step - loss: 0.5432 - accuracy: 0.7323\n"
          ]
        }
      ],
      "source": [
        "# fitting model_2\n",
        "history=model_2.fit(inputgenerator,\n",
        "                        steps_per_epoch=len(train)/batch_size,\n",
        "                        epochs = 10,\n",
        "                        use_multiprocessing=True,  shuffle=False)"
      ]
    },
    {
      "cell_type": "code",
      "execution_count": null,
      "metadata": {
        "colab": {
          "base_uri": "https://localhost:8080/"
        },
        "id": "KYXDq6f6nx5F",
        "outputId": "f61b6c1a-6ca0-4542-e81b-c3b2a6aa547b"
      },
      "outputs": [
        {
          "name": "stdout",
          "output_type": "stream",
          "text": [
            "INFO:tensorflow:Assets written to: /content/drive/My Drive/MFCC/saved_model/assets\n"
          ]
        }
      ],
      "source": [
        "model.save('/content/drive/My Drive/MFCC/saved_model')"
      ]
    },
    {
      "cell_type": "markdown",
      "metadata": {
        "id": "mKkqwONHztet"
      },
      "source": [
        "\n",
        "\n",
        "#Testing"
      ]
    },
    {
      "cell_type": "markdown",
      "metadata": {
        "id": "nqX-zdhcU06r"
      },
      "source": [
        "During testing an anchor image is randomly chosen from each class and distance is measured between the features or vectors of these anchor and test image learned by two subnetworks. This way, we get 3 distance scores for each test image and we find out which class gave us the lowest score. That class is assumed to be the predicted class for our test image. "
      ]
    },
    {
      "cell_type": "code",
      "execution_count": null,
      "metadata": {
        "id": "mL4DhDc7z1yA"
      },
      "outputs": [],
      "source": [
        "import numpy as np\n",
        "import pandas as pd\n",
        "import os\n",
        "import matplotlib.pyplot as plt\n",
        "\n",
        "import random\n",
        "import keras\n",
        "from keras.models import Sequential\n",
        "import time\n",
        "from tensorflow.keras.optimizers import Adam,RMSprop\n",
        "from keras.layers import Conv2D, ZeroPadding2D, Activation, Input, concatenate\n",
        "from keras.models import Model\n",
        "import seaborn as sns\n",
        "from keras.layers import BatchNormalization\n",
        "from keras.layers.pooling import MaxPooling2D\n",
        "from keras.layers.core import Lambda, Flatten, Dense\n",
        "from keras.initializers import glorot_uniform\n",
        "from keras.optimizers import *\n",
        "from keras.layers import Layer\n",
        "from keras import backend as K\n",
        "from keras.regularizers import l2\n",
        "import pandas as pd\n",
        "import cv2 as cv\n",
        "from keras.preprocessing.image import ImageDataGenerator"
      ]
    },
    {
      "cell_type": "code",
      "execution_count": null,
      "metadata": {
        "colab": {
          "base_uri": "https://localhost:8080/"
        },
        "id": "ZuEK8gLJ0XRZ",
        "outputId": "e41cadaf-3c53-4485-aaf0-13c5594214f8"
      },
      "outputs": [
        {
          "output_type": "stream",
          "name": "stdout",
          "text": [
            "Drive already mounted at /content/drive; to attempt to forcibly remount, call drive.mount(\"/content/drive\", force_remount=True).\n"
          ]
        }
      ],
      "source": [
        "from google.colab import drive\n",
        "drive.mount('/content/drive')"
      ]
    },
    {
      "cell_type": "code",
      "execution_count": null,
      "metadata": {
        "id": "ooA7Cah6rbQd"
      },
      "outputs": [],
      "source": [
        "model =keras.models.load_model('/content/drive/My Drive/MFCC/saved_model')"
      ]
    },
    {
      "cell_type": "code",
      "execution_count": null,
      "metadata": {
        "id": "6i1tqayUrjwB"
      },
      "outputs": [],
      "source": [
        "from sklearn.metrics import confusion_matrix,classification_report\n",
        "from sklearn.metrics import accuracy_score"
      ]
    },
    {
      "cell_type": "markdown",
      "metadata": {
        "id": "b3M_aBPzm8LD"
      },
      "source": [
        "##  Test folder with test files from each class"
      ]
    },
    {
      "cell_type": "code",
      "execution_count": null,
      "metadata": {
        "id": "NG9pzPvEnCvu"
      },
      "outputs": [],
      "source": [
        "test_folder = '/content/drive/My Drive/MFCC/Test'"
      ]
    },
    {
      "cell_type": "code",
      "execution_count": null,
      "metadata": {
        "id": "rJXiM8XfnYuz"
      },
      "outputs": [],
      "source": [
        "test_df = pd.DataFrame()"
      ]
    },
    {
      "cell_type": "code",
      "execution_count": null,
      "metadata": {
        "id": "r-BzrtMy4a1V"
      },
      "outputs": [],
      "source": [
        "covid_path= '/content/drive/My Drive/MFCC/Covid/COVID-19'\n",
        "healthy_path = '/content/drive/My Drive/MFCC/healthy'\n",
        "symptomatic_path = '/content/drive/My Drive/MFCC/symptomatic'"
      ]
    },
    {
      "cell_type": "code",
      "execution_count": null,
      "metadata": {
        "id": "j-D1_Z_74N8_"
      },
      "outputs": [],
      "source": [
        "covid_model = covid_path + '/0eba0c0a-5609-4777-903d-b15292798250.png'\n",
        "healthy_model = healthy_path + '/0cb18590-3107-42dc-b0ca-63b897f15a8b.png'\n",
        "symptomatic_model = symptomatic_path + '/0eef6d8c-73f0-4c59-8155-3786687f5ff0.png'"
      ]
    },
    {
      "cell_type": "code",
      "execution_count": null,
      "metadata": {
        "id": "XMyOs_UknenT"
      },
      "outputs": [],
      "source": [
        "anchor = []\n",
        "testing = []\n",
        "label = []\n",
        "for folder in os.listdir(test_folder):\n",
        "  foldern = os.path.join(test_folder,folder)\n",
        "  for file in os.listdir(foldern):\n",
        "    filename = os.path.join(foldern,file)\n",
        "    if folder==\"COVID-19\":\n",
        "      anchor.append(covid_model)\n",
        "      testing.append(filename)\n",
        "      label.append(0)\n",
        "      anchor.append(healthy_model)\n",
        "      anchor.append(symptomatic_model)\n",
        "      testing.append(filename)\n",
        "      testing.append(filename)\n",
        "      label.append(1)\n",
        "      label.append(1)\n",
        "    if folder==\"symptomatic\":\n",
        "      anchor.append(symptomatic_model)\n",
        "      testing.append(filename)\n",
        "      label.append(0)\n",
        "      anchor.append(healthy_model)\n",
        "      anchor.append(covid_model)\n",
        "      testing.append(filename)\n",
        "      testing.append(filename)\n",
        "      label.append(1)\n",
        "      label.append(1)\n",
        "    if folder==\"healthy\":\n",
        "      anchor.append(healthy_model)\n",
        "      testing.append(filename)\n",
        "      label.append(0)\n",
        "      anchor.append(covid_model)\n",
        "      anchor.append(symptomatic_model)\n",
        "      testing.append(filename)\n",
        "      testing.append(filename)\n",
        "      label.append(1)\n",
        "      label.append(1)"
      ]
    },
    {
      "cell_type": "code",
      "execution_count": null,
      "metadata": {
        "colab": {
          "base_uri": "https://localhost:8080/"
        },
        "id": "cs_f6WQ9pilr",
        "outputId": "01cc8589-b1d5-489b-8cff-08a024678781"
      },
      "outputs": [
        {
          "output_type": "execute_result",
          "data": {
            "text/plain": [
              "90"
            ]
          },
          "metadata": {},
          "execution_count": 31
        }
      ],
      "source": [
        "len(label)"
      ]
    },
    {
      "cell_type": "code",
      "execution_count": null,
      "metadata": {
        "id": "sJFmbytL5jcO"
      },
      "outputs": [],
      "source": [
        "\n",
        "def generate_generator_multiple(generator,df, batch_size, img_height,img_width):\n",
        "    genX1 = generator.flow_from_dataframe(df,\n",
        "                                          directory = None,\n",
        "                                          x_col = \"X1\",\n",
        "                                          y_col = \"Y\",\n",
        "                                          color_mode = \"grayscale\",\n",
        "                                          target_size = (img_height,img_width),\n",
        "                                          class_mode = 'raw',\n",
        "                                          batch_size = batch_size,\n",
        "                                          shuffle=False, \n",
        "                                          seed=7)\n",
        "    \n",
        "    genX2 = generator.flow_from_dataframe(df,\n",
        "                                          directory = None,\n",
        "                                          x_col = \"X2\",\n",
        "                                          y_col = \"Y\",\n",
        "                                          color_mode = \"grayscale\",\n",
        "                                          target_size = (img_height,img_width),\n",
        "                                          class_mode = 'raw',\n",
        "                                          batch_size = batch_size,\n",
        "                                          shuffle=False, \n",
        "                                          seed=7)\n",
        "    while True:\n",
        "            X1i = genX1.next()\n",
        "            X2i = genX2.next()\n",
        "            yield [X1i[0], X2i[0]], X2i[1]  #Yield both images and their mutual label"
      ]
    },
    {
      "cell_type": "code",
      "execution_count": null,
      "metadata": {
        "id": "o095xqXr421b"
      },
      "outputs": [],
      "source": [
        "test_df[\"X1\"] = anchor\n",
        "test_df[\"X2\"] = testing\n",
        "test_df[\"Y\"] = label"
      ]
    },
    {
      "cell_type": "code",
      "execution_count": null,
      "metadata": {
        "id": "XMXAgtEb46cP"
      },
      "outputs": [],
      "source": [
        "testgenerator=generate_generator_multiple(test_imgen,\n",
        "                                          df = test_df,\n",
        "                                          batch_size=batch_size,\n",
        "                                          img_height=img_height,\n",
        "                                          img_width=img_height)"
      ]
    },
    {
      "cell_type": "code",
      "execution_count": null,
      "metadata": {
        "id": "Qj7eK5Rp480M"
      },
      "outputs": [],
      "source": [
        "pred = model_2.predict(testgenerator, steps = len(test_df)/batch_size)"
      ]
    },
    {
      "cell_type": "code",
      "execution_count": null,
      "metadata": {
        "id": "hkD8DRN45prE"
      },
      "outputs": [],
      "source": [
        "test_df[\"preds\"] = pred"
      ]
    },
    {
      "cell_type": "code",
      "execution_count": null,
      "metadata": {
        "id": "gATqNQtj50WX"
      },
      "outputs": [],
      "source": [
        "data = test_df[[\"Y\",\"preds\"]].head(30)"
      ]
    },
    {
      "cell_type": "code",
      "execution_count": null,
      "metadata": {
        "id": "wuu7OPEL55_A"
      },
      "outputs": [],
      "source": [
        "prediction = [1]*90"
      ]
    },
    {
      "cell_type": "markdown",
      "metadata": {
        "id": "zBxejpjgYUeE"
      },
      "source": [
        "For each test image distance prediction (preds column in test_df) I gave value 'zero' or 1 (prediction column). 'zero' corresponds to minimum distance and 1 correspond to other two values of distance for that test image. Comparing 'Y' column with 'prediction' column can give us idea about the accuracy of the prediction of the model. "
      ]
    },
    {
      "cell_type": "code",
      "execution_count": null,
      "metadata": {
        "id": "mzLMkwcL58he"
      },
      "outputs": [],
      "source": [
        "for i in range(0,len(pred),3):\n",
        "  value0 = pred[i]\n",
        "  value1 = pred[i+1]\n",
        "  value2 = pred[i+2]\n",
        "  li = (value0,value1,value2)\n",
        "  index = li.index(min(li))\n",
        "  pos = i + index\n",
        "  prediction[pos] = 0"
      ]
    },
    {
      "cell_type": "code",
      "execution_count": null,
      "metadata": {
        "id": "bPeU6pAZ5_IK"
      },
      "outputs": [],
      "source": [
        "test_df[\"prediction\"] = prediction"
      ]
    },
    {
      "cell_type": "code",
      "execution_count": null,
      "metadata": {
        "id": "Wfl2o53f6BtL"
      },
      "outputs": [],
      "source": [
        "true = test_df[\"Y\"]"
      ]
    },
    {
      "cell_type": "code",
      "execution_count": null,
      "metadata": {
        "colab": {
          "base_uri": "https://localhost:8080/",
          "height": 423
        },
        "id": "e8e-aHz86Mg6",
        "outputId": "d93386fc-cd5d-47b9-a44b-cc25fd2cd587"
      },
      "outputs": [
        {
          "output_type": "execute_result",
          "data": {
            "text/plain": [
              "                                                   X1  \\\n",
              "0   /content/drive/My Drive/MFCC/Covid/COVID-19/0e...   \n",
              "1   /content/drive/My Drive/MFCC/healthy/0cb18590-...   \n",
              "2   /content/drive/My Drive/MFCC/symptomatic/0eef6...   \n",
              "3   /content/drive/My Drive/MFCC/Covid/COVID-19/0e...   \n",
              "4   /content/drive/My Drive/MFCC/healthy/0cb18590-...   \n",
              "..                                                ...   \n",
              "85  /content/drive/My Drive/MFCC/Covid/COVID-19/0e...   \n",
              "86  /content/drive/My Drive/MFCC/symptomatic/0eef6...   \n",
              "87  /content/drive/My Drive/MFCC/healthy/0cb18590-...   \n",
              "88  /content/drive/My Drive/MFCC/Covid/COVID-19/0e...   \n",
              "89  /content/drive/My Drive/MFCC/symptomatic/0eef6...   \n",
              "\n",
              "                                                   X2  Y     preds  prediction  \n",
              "0   /content/drive/My Drive/MFCC/Test/COVID-19/1d4...  0  0.500212           1  \n",
              "1   /content/drive/My Drive/MFCC/Test/COVID-19/1d4...  1  0.499403           1  \n",
              "2   /content/drive/My Drive/MFCC/Test/COVID-19/1d4...  1  0.498931           0  \n",
              "3   /content/drive/My Drive/MFCC/Test/COVID-19/1c8...  0  0.499070           0  \n",
              "4   /content/drive/My Drive/MFCC/Test/COVID-19/1c8...  1  0.499789           1  \n",
              "..                                                ... ..       ...         ...  \n",
              "85  /content/drive/My Drive/MFCC/Test/healthy/2bc3...  1  0.499094           1  \n",
              "86  /content/drive/My Drive/MFCC/Test/healthy/2bc3...  1  0.499026           0  \n",
              "87  /content/drive/My Drive/MFCC/Test/healthy/2baa...  0  0.499505           0  \n",
              "88  /content/drive/My Drive/MFCC/Test/healthy/2baa...  1  0.499878           1  \n",
              "89  /content/drive/My Drive/MFCC/Test/healthy/2baa...  1  0.499642           1  \n",
              "\n",
              "[90 rows x 5 columns]"
            ],
            "text/html": [
              "\n",
              "  <div id=\"df-935dfcff-519d-44a7-bf93-f7a378542b9f\">\n",
              "    <div class=\"colab-df-container\">\n",
              "      <div>\n",
              "<style scoped>\n",
              "    .dataframe tbody tr th:only-of-type {\n",
              "        vertical-align: middle;\n",
              "    }\n",
              "\n",
              "    .dataframe tbody tr th {\n",
              "        vertical-align: top;\n",
              "    }\n",
              "\n",
              "    .dataframe thead th {\n",
              "        text-align: right;\n",
              "    }\n",
              "</style>\n",
              "<table border=\"1\" class=\"dataframe\">\n",
              "  <thead>\n",
              "    <tr style=\"text-align: right;\">\n",
              "      <th></th>\n",
              "      <th>X1</th>\n",
              "      <th>X2</th>\n",
              "      <th>Y</th>\n",
              "      <th>preds</th>\n",
              "      <th>prediction</th>\n",
              "    </tr>\n",
              "  </thead>\n",
              "  <tbody>\n",
              "    <tr>\n",
              "      <th>0</th>\n",
              "      <td>/content/drive/My Drive/MFCC/Covid/COVID-19/0e...</td>\n",
              "      <td>/content/drive/My Drive/MFCC/Test/COVID-19/1d4...</td>\n",
              "      <td>0</td>\n",
              "      <td>0.500212</td>\n",
              "      <td>1</td>\n",
              "    </tr>\n",
              "    <tr>\n",
              "      <th>1</th>\n",
              "      <td>/content/drive/My Drive/MFCC/healthy/0cb18590-...</td>\n",
              "      <td>/content/drive/My Drive/MFCC/Test/COVID-19/1d4...</td>\n",
              "      <td>1</td>\n",
              "      <td>0.499403</td>\n",
              "      <td>1</td>\n",
              "    </tr>\n",
              "    <tr>\n",
              "      <th>2</th>\n",
              "      <td>/content/drive/My Drive/MFCC/symptomatic/0eef6...</td>\n",
              "      <td>/content/drive/My Drive/MFCC/Test/COVID-19/1d4...</td>\n",
              "      <td>1</td>\n",
              "      <td>0.498931</td>\n",
              "      <td>0</td>\n",
              "    </tr>\n",
              "    <tr>\n",
              "      <th>3</th>\n",
              "      <td>/content/drive/My Drive/MFCC/Covid/COVID-19/0e...</td>\n",
              "      <td>/content/drive/My Drive/MFCC/Test/COVID-19/1c8...</td>\n",
              "      <td>0</td>\n",
              "      <td>0.499070</td>\n",
              "      <td>0</td>\n",
              "    </tr>\n",
              "    <tr>\n",
              "      <th>4</th>\n",
              "      <td>/content/drive/My Drive/MFCC/healthy/0cb18590-...</td>\n",
              "      <td>/content/drive/My Drive/MFCC/Test/COVID-19/1c8...</td>\n",
              "      <td>1</td>\n",
              "      <td>0.499789</td>\n",
              "      <td>1</td>\n",
              "    </tr>\n",
              "    <tr>\n",
              "      <th>...</th>\n",
              "      <td>...</td>\n",
              "      <td>...</td>\n",
              "      <td>...</td>\n",
              "      <td>...</td>\n",
              "      <td>...</td>\n",
              "    </tr>\n",
              "    <tr>\n",
              "      <th>85</th>\n",
              "      <td>/content/drive/My Drive/MFCC/Covid/COVID-19/0e...</td>\n",
              "      <td>/content/drive/My Drive/MFCC/Test/healthy/2bc3...</td>\n",
              "      <td>1</td>\n",
              "      <td>0.499094</td>\n",
              "      <td>1</td>\n",
              "    </tr>\n",
              "    <tr>\n",
              "      <th>86</th>\n",
              "      <td>/content/drive/My Drive/MFCC/symptomatic/0eef6...</td>\n",
              "      <td>/content/drive/My Drive/MFCC/Test/healthy/2bc3...</td>\n",
              "      <td>1</td>\n",
              "      <td>0.499026</td>\n",
              "      <td>0</td>\n",
              "    </tr>\n",
              "    <tr>\n",
              "      <th>87</th>\n",
              "      <td>/content/drive/My Drive/MFCC/healthy/0cb18590-...</td>\n",
              "      <td>/content/drive/My Drive/MFCC/Test/healthy/2baa...</td>\n",
              "      <td>0</td>\n",
              "      <td>0.499505</td>\n",
              "      <td>0</td>\n",
              "    </tr>\n",
              "    <tr>\n",
              "      <th>88</th>\n",
              "      <td>/content/drive/My Drive/MFCC/Covid/COVID-19/0e...</td>\n",
              "      <td>/content/drive/My Drive/MFCC/Test/healthy/2baa...</td>\n",
              "      <td>1</td>\n",
              "      <td>0.499878</td>\n",
              "      <td>1</td>\n",
              "    </tr>\n",
              "    <tr>\n",
              "      <th>89</th>\n",
              "      <td>/content/drive/My Drive/MFCC/symptomatic/0eef6...</td>\n",
              "      <td>/content/drive/My Drive/MFCC/Test/healthy/2baa...</td>\n",
              "      <td>1</td>\n",
              "      <td>0.499642</td>\n",
              "      <td>1</td>\n",
              "    </tr>\n",
              "  </tbody>\n",
              "</table>\n",
              "<p>90 rows × 5 columns</p>\n",
              "</div>\n",
              "      <button class=\"colab-df-convert\" onclick=\"convertToInteractive('df-935dfcff-519d-44a7-bf93-f7a378542b9f')\"\n",
              "              title=\"Convert this dataframe to an interactive table.\"\n",
              "              style=\"display:none;\">\n",
              "        \n",
              "  <svg xmlns=\"http://www.w3.org/2000/svg\" height=\"24px\"viewBox=\"0 0 24 24\"\n",
              "       width=\"24px\">\n",
              "    <path d=\"M0 0h24v24H0V0z\" fill=\"none\"/>\n",
              "    <path d=\"M18.56 5.44l.94 2.06.94-2.06 2.06-.94-2.06-.94-.94-2.06-.94 2.06-2.06.94zm-11 1L8.5 8.5l.94-2.06 2.06-.94-2.06-.94L8.5 2.5l-.94 2.06-2.06.94zm10 10l.94 2.06.94-2.06 2.06-.94-2.06-.94-.94-2.06-.94 2.06-2.06.94z\"/><path d=\"M17.41 7.96l-1.37-1.37c-.4-.4-.92-.59-1.43-.59-.52 0-1.04.2-1.43.59L10.3 9.45l-7.72 7.72c-.78.78-.78 2.05 0 2.83L4 21.41c.39.39.9.59 1.41.59.51 0 1.02-.2 1.41-.59l7.78-7.78 2.81-2.81c.8-.78.8-2.07 0-2.86zM5.41 20L4 18.59l7.72-7.72 1.47 1.35L5.41 20z\"/>\n",
              "  </svg>\n",
              "      </button>\n",
              "      \n",
              "  <style>\n",
              "    .colab-df-container {\n",
              "      display:flex;\n",
              "      flex-wrap:wrap;\n",
              "      gap: 12px;\n",
              "    }\n",
              "\n",
              "    .colab-df-convert {\n",
              "      background-color: #E8F0FE;\n",
              "      border: none;\n",
              "      border-radius: 50%;\n",
              "      cursor: pointer;\n",
              "      display: none;\n",
              "      fill: #1967D2;\n",
              "      height: 32px;\n",
              "      padding: 0 0 0 0;\n",
              "      width: 32px;\n",
              "    }\n",
              "\n",
              "    .colab-df-convert:hover {\n",
              "      background-color: #E2EBFA;\n",
              "      box-shadow: 0px 1px 2px rgba(60, 64, 67, 0.3), 0px 1px 3px 1px rgba(60, 64, 67, 0.15);\n",
              "      fill: #174EA6;\n",
              "    }\n",
              "\n",
              "    [theme=dark] .colab-df-convert {\n",
              "      background-color: #3B4455;\n",
              "      fill: #D2E3FC;\n",
              "    }\n",
              "\n",
              "    [theme=dark] .colab-df-convert:hover {\n",
              "      background-color: #434B5C;\n",
              "      box-shadow: 0px 1px 3px 1px rgba(0, 0, 0, 0.15);\n",
              "      filter: drop-shadow(0px 1px 2px rgba(0, 0, 0, 0.3));\n",
              "      fill: #FFFFFF;\n",
              "    }\n",
              "  </style>\n",
              "\n",
              "      <script>\n",
              "        const buttonEl =\n",
              "          document.querySelector('#df-935dfcff-519d-44a7-bf93-f7a378542b9f button.colab-df-convert');\n",
              "        buttonEl.style.display =\n",
              "          google.colab.kernel.accessAllowed ? 'block' : 'none';\n",
              "\n",
              "        async function convertToInteractive(key) {\n",
              "          const element = document.querySelector('#df-935dfcff-519d-44a7-bf93-f7a378542b9f');\n",
              "          const dataTable =\n",
              "            await google.colab.kernel.invokeFunction('convertToInteractive',\n",
              "                                                     [key], {});\n",
              "          if (!dataTable) return;\n",
              "\n",
              "          const docLinkHtml = 'Like what you see? Visit the ' +\n",
              "            '<a target=\"_blank\" href=https://colab.research.google.com/notebooks/data_table.ipynb>data table notebook</a>'\n",
              "            + ' to learn more about interactive tables.';\n",
              "          element.innerHTML = '';\n",
              "          dataTable['output_type'] = 'display_data';\n",
              "          await google.colab.output.renderOutput(dataTable, element);\n",
              "          const docLink = document.createElement('div');\n",
              "          docLink.innerHTML = docLinkHtml;\n",
              "          element.appendChild(docLink);\n",
              "        }\n",
              "      </script>\n",
              "    </div>\n",
              "  </div>\n",
              "  "
            ]
          },
          "metadata": {},
          "execution_count": 43
        }
      ],
      "source": [
        "test_df"
      ]
    },
    {
      "cell_type": "markdown",
      "metadata": {
        "id": "BQUSH5WpfIDJ"
      },
      "source": [
        "creating confusion matrix from ground truth and predicted value."
      ]
    },
    {
      "cell_type": "code",
      "execution_count": null,
      "metadata": {
        "id": "yDp36bnRRsVn"
      },
      "outputs": [],
      "source": [
        "class_index_dict={\n",
        "    'COVID-19':0,'symptomatic':1,'healthy':2\n",
        "}"
      ]
    },
    {
      "cell_type": "code",
      "execution_count": null,
      "metadata": {
        "id": "q5zfhuEoN98G"
      },
      "outputs": [],
      "source": [
        "ground_truths=[]\n",
        "for i in range(0,len(pred),3):\n",
        "  ground_truths.append(test_df['X2'][i].split('/')[-2])\n",
        "ground_truths=[class_index_dict[x] for x in ground_truths]\n",
        "print(ground_truths)"
      ]
    },
    {
      "cell_type": "code",
      "execution_count": null,
      "metadata": {
        "id": "lysNK-HVPYJ8"
      },
      "outputs": [],
      "source": [
        "predicted_classes=[]\n",
        "for i in range(0,len(pred),3):\n",
        "  value0 = pred[i]\n",
        "  value1 = pred[i+1]\n",
        "  value2 = pred[i+2]\n",
        "  li = (value0,value1,value2)\n",
        "  index = li.index(min(li))\n",
        "  pos = i + index\n",
        "  predicted_classes.append(test_df['X1'][pos].split('/')[-2])\n",
        "predicted_classes=[class_index_dict[x] for x in predicted_classes]\n",
        "print(predicted_classes)\n"
      ]
    },
    {
      "cell_type": "code",
      "execution_count": null,
      "metadata": {
        "id": "FW2SfA5ZT0zX"
      },
      "outputs": [],
      "source": [
        "from sklearn.metrics import confusion_matrix"
      ]
    },
    {
      "cell_type": "code",
      "execution_count": null,
      "metadata": {
        "id": "7kXfR_cCTiBh"
      },
      "outputs": [],
      "source": [
        "confusion_vis_1=confusion_matrix(ground_truths,predicted_classes)"
      ]
    },
    {
      "cell_type": "markdown",
      "metadata": {
        "id": "dqWSNkJPA_vR"
      },
      "source": [
        "#confusion matrix for model_2 "
      ]
    },
    {
      "cell_type": "markdown",
      "metadata": {
        "id": "lxbna75vhUh1"
      },
      "source": [
        "0:Covid-19, 1:symptomatic, 2: healthy "
      ]
    },
    {
      "cell_type": "code",
      "execution_count": null,
      "metadata": {
        "colab": {
          "base_uri": "https://localhost:8080/",
          "height": 464
        },
        "id": "7yfeMCVwUvYt",
        "outputId": "f8b89ea3-3a9e-4ddd-a1e5-f1dd41a72d9f"
      },
      "outputs": [
        {
          "data": {
            "image/png": "[encoded data removed]",
            "text/plain": [
              "<Figure size 720x504 with 2 Axes>"
            ]
          },
          "metadata": {},
          "output_type": "display_data"
        }
      ],
      "source": [
        "plt.figure(figsize=(10,7))\n",
        "sns.set(font_scale=1.4) # for label size\n",
        "fig=sns.heatmap(confusion_vis,annot=True, annot_kws={\"size\": 16}) # font size\n",
        "fig.set( xlabel = \"Predicted Value\", ylabel = \"True Value\")\n",
        "plt.show()"
      ]
    },
    {
      "cell_type": "markdown",
      "source": [
        "#Recall rate calculation from confusion matrix"
      ],
      "metadata": {
        "id": "Qll5yQPUW090"
      }
    },
    {
      "cell_type": "code",
      "source": [
        "over_all_accuracy= (7+4+1)/30\n",
        "Covid_19_recall=7/10\n",
        "symptomatic_recall=4/10\n",
        "healthy_recall=1/10"
      ],
      "metadata": {
        "id": "MYQL5PceT3Tu"
      },
      "execution_count": 7,
      "outputs": []
    },
    {
      "cell_type": "code",
      "source": [
        "print(\"Over all Accuracy\", over_all_accuracy)\n",
        "print(\"Covid-19:\", Covid_19_recall)\n",
        "print(\"symptomatic Recall:\",symptomatic_recall)\n",
        "print(\"Healthy Recall:\",healthy_recall)"
      ],
      "metadata": {
        "colab": {
          "base_uri": "https://localhost:8080/"
        },
        "id": "VwuOqF4nVKz4",
        "outputId": "03f7c2ec-b322-4a1e-ef95-9b4ca14295b4"
      },
      "execution_count": 12,
      "outputs": [
        {
          "output_type": "stream",
          "name": "stdout",
          "text": [
            "Over all Accuracy 0.4\n",
            "Covid-19: 0.7\n",
            "symptomatic Recall: 0.4\n",
            "Healthy Recall: 0.1\n"
          ]
        }
      ]
    },
    {
      "cell_type": "markdown",
      "metadata": {
        "id": "TlANzVVejiW0"
      },
      "source": [
        "#Conclusion"
      ]
    },
    {
      "cell_type": "markdown",
      "metadata": {
        "id": "B8f3wg6yoAwK"
      },
      "source": [
        "The training accuracy shows around 70%. However, the testing accuracy from confusion matrix shows that overall accuracy is around 40% as the recall rate of Covid-19 was around 70%, symptomatic was around 40% and 10% for healthy class. The high training accuracy of 70% might be due to accuracy measured for samples in pairwise fashion. The present model can’t be used for testing as it  predicts sickness in more than 90% of cases. However, in a real world most of the people are not sick.  To improve the performance of the model  During testing an anchor image is randomly chosen from each class and distance is measured between the features or vectors of these anchor and test image learned by two subnetworks. The class of the anchor image that gives the least distance is chosen as the predicted class. This anchor image to test image distance can change by choosing a different anchor image and can give a different prediction. To make the prediction consistent, and better recall rate, following methods can be followed \n",
        "\n",
        "  •\tThe distance can be measured between each training image and the test image. The predicted class will be the one that is on average is the closest.\n",
        "\n",
        "  •\tThe closest training sample can be found from the distance measured and the predicted class will be the class of that training sample.\n",
        "\n",
        "  •\tThe n closest training samples can be found and have the vote on the class. \n",
        "\n",
        "  Apart from this model other simpler algorithms such as KNN or SVM can be applied on engineered features to see the performance of the model. "
      ]
    }
  ],
  "metadata": {
    "accelerator": "GPU",
    "colab": {
      "collapsed_sections": [
        "KTZLWpJohKQZ"
      ],
      "name": " CoughVid_Revised.ipynb",
      "provenance": []
    },
    "kernelspec": {
      "display_name": "Python 3",
      "name": "python3"
    },
    "language_info": {
      "name": "python"
    }
  },
  "nbformat": 4,
  "nbformat_minor": 0
}