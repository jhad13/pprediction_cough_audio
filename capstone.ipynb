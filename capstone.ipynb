{
  "cells": [
    {
      "cell_type": "markdown",
      "metadata": {
        "id": "j33MPFCDMh28"
      },
      "source": [
        "# Prediction of Covid-19 from Cough Analysis\n"
      ]
    },
    {
      "cell_type": "markdown",
      "source": [
        "#Objective"
      ],
      "metadata": {
        "id": "d4GwOPWDSIjd"
      }
    },
    {
      "cell_type": "markdown",
      "source": [
        "###The pandemic due to Covid-19 has been affecting the world since more than 2 years. Experts agree that mass testing is essential for isolating infected individuals, and slowing the progression of the virus. There is a need for testing method which is inexpensive, can give test result within a minute, can be done without any supervision and with limited contact with other people. Here I have developed a deep learning Siamese network model to predict Covid-19 positive, symptomatic, healthy. This model can be use to develop a web app or cell phone app where people can upload their cough audio and know the test results for covid-positive or negative within minute. The model training accuracy was around 70% and validation accuracy was around 62%. Recall accuracy of 80%, 60% and 45% for Covid-19, symptomatic and Healthy classes respectively."
      ],
      "metadata": {
        "id": "OoXZi0eQR6xy"
      }
    },
    {
      "cell_type": "markdown",
      "source": [
        "#Data"
      ],
      "metadata": {
        "id": "-T6g43xQW13W"
      }
    },
    {
      "cell_type": "markdown",
      "source": [
        "###The data set was obtained from publicly available database. Data of cough and other informations such as health condition was collected from people all over the world. The dataset consists of thousands of cough audio of variable length along with metadata containing labels of Covid-19, Healthy and Symptomatic. The research group also have included the cough classification score in the metadata."
      ],
      "metadata": {
        "id": "pZmWbWv1W46Y"
      }
    },
    {
      "cell_type": "markdown",
      "metadata": {
        "id": "hylitdbpOeob"
      },
      "source": [
        "## Downloading Dataset"
      ]
    },
    {
      "cell_type": "code",
      "execution_count": 18,
      "metadata": {
        "colab": {
          "base_uri": "https://localhost:8080/"
        },
        "id": "oCq5T4BlMoFH",
        "outputId": "28180624-46a1-4301-8145-e82e722c7638"
      },
      "outputs": [
        {
          "output_type": "stream",
          "name": "stdout",
          "text": [
            "--2022-03-18 16:50:42--  https://zenodo.org/record/4498364/files/public_dataset.zip\n",
            "Resolving zenodo.org (zenodo.org)... 137.138.76.77\n",
            "Connecting to zenodo.org (zenodo.org)|137.138.76.77|:443... connected.\n",
            "HTTP request sent, awaiting response... 200 OK\n",
            "Length: 1332806163 (1.2G) [application/octet-stream]\n",
            "Saving to: ‘public_dataset.zip’\n",
            "\n",
            "public_dataset.zip  100%[===================>]   1.24G  25.2MB/s    in 98s     \n",
            "\n",
            "2022-03-18 16:52:23 (13.0 MB/s) - ‘public_dataset.zip’ saved [1332806163/1332806163]\n",
            "\n"
          ]
        }
      ],
      "source": [
        "!wget https://zenodo.org/record/4498364/files/public_dataset.zip"
      ]
    },
    {
      "cell_type": "code",
      "execution_count": 15,
      "metadata": {
        "id": "RMKTm8k1Rc4W"
      },
      "outputs": [],
      "source": [
        "!unzip public_dataset.zip"
      ]
    },
    {
      "cell_type": "code",
      "execution_count": 5,
      "metadata": {
        "colab": {
          "base_uri": "https://localhost:8080/",
          "height": 678
        },
        "id": "kTwgFF0MOrQH",
        "outputId": "9879781e-0d9a-49b0-b28e-0ac8b0ac5fa3"
      },
      "outputs": [
        {
          "output_type": "stream",
          "name": "stdout",
          "text": [
            "Collecting plaidml-keras\n",
            "  Downloading plaidml_keras-0.7.0-py2.py3-none-any.whl (19 kB)\n",
            "Requirement already satisfied: six in /usr/local/lib/python3.7/dist-packages (from plaidml-keras) (1.15.0)\n",
            "Collecting keras==2.2.4\n",
            "  Downloading Keras-2.2.4-py2.py3-none-any.whl (312 kB)\n",
            "\u001b[K     |████████████████████████████████| 312 kB 12.0 MB/s \n",
            "\u001b[?25hCollecting plaidml\n",
            "  Downloading plaidml-0.7.0-py2.py3-none-manylinux1_x86_64.whl (22.0 MB)\n",
            "\u001b[K     |████████████████████████████████| 22.0 MB 1.4 MB/s \n",
            "\u001b[?25hRequirement already satisfied: h5py in /usr/local/lib/python3.7/dist-packages (from keras==2.2.4->plaidml-keras) (3.1.0)\n",
            "Requirement already satisfied: scipy>=0.14 in /usr/local/lib/python3.7/dist-packages (from keras==2.2.4->plaidml-keras) (1.4.1)\n",
            "Requirement already satisfied: numpy>=1.9.1 in /usr/local/lib/python3.7/dist-packages (from keras==2.2.4->plaidml-keras) (1.21.5)\n",
            "Requirement already satisfied: keras-preprocessing>=1.0.5 in /usr/local/lib/python3.7/dist-packages (from keras==2.2.4->plaidml-keras) (1.1.2)\n",
            "Requirement already satisfied: pyyaml in /usr/local/lib/python3.7/dist-packages (from keras==2.2.4->plaidml-keras) (3.13)\n",
            "Collecting keras-applications>=1.0.6\n",
            "  Downloading Keras_Applications-1.0.8-py3-none-any.whl (50 kB)\n",
            "\u001b[K     |████████████████████████████████| 50 kB 7.1 MB/s \n",
            "\u001b[?25hRequirement already satisfied: cached-property in /usr/local/lib/python3.7/dist-packages (from h5py->keras==2.2.4->plaidml-keras) (1.5.2)\n",
            "Requirement already satisfied: cffi in /usr/local/lib/python3.7/dist-packages (from plaidml->plaidml-keras) (1.15.0)\n",
            "Collecting enum34>=1.1.6\n",
            "  Downloading enum34-1.1.10-py3-none-any.whl (11 kB)\n",
            "Requirement already satisfied: pycparser in /usr/local/lib/python3.7/dist-packages (from cffi->plaidml->plaidml-keras) (2.21)\n",
            "Installing collected packages: keras-applications, enum34, plaidml, keras, plaidml-keras\n",
            "  Attempting uninstall: keras\n",
            "    Found existing installation: keras 2.8.0\n",
            "    Uninstalling keras-2.8.0:\n",
            "      Successfully uninstalled keras-2.8.0\n",
            "\u001b[31mERROR: pip's dependency resolver does not currently take into account all the packages that are installed. This behaviour is the source of the following dependency conflicts.\n",
            "tensorflow 2.8.0 requires tf-estimator-nightly==2.8.0.dev2021122109, which is not installed.\n",
            "tensorflow 2.8.0 requires keras<2.9,>=2.8.0rc0, but you have keras 2.2.4 which is incompatible.\u001b[0m\n",
            "Successfully installed enum34-1.1.10 keras-2.2.4 keras-applications-1.0.8 plaidml-0.7.0 plaidml-keras-0.7.0\n"
          ]
        },
        {
          "output_type": "display_data",
          "data": {
            "application/vnd.colab-display-data+json": {
              "pip_warning": {
                "packages": [
                  "enum",
                  "keras"
                ]
              }
            }
          },
          "metadata": {}
        }
      ],
      "source": [
        "!pip install -U plaidml-keras"
      ]
    },
    {
      "cell_type": "markdown",
      "source": [
        "##Installation of opensource software ffmpeg to convert audio files of .webm and .ogg files to audio processable file .wav format"
      ],
      "metadata": {
        "id": "-L_fKo9De_hN"
      }
    },
    {
      "cell_type": "code",
      "execution_count": 6,
      "metadata": {
        "colab": {
          "base_uri": "https://localhost:8080/"
        },
        "id": "pmropU9cPboN",
        "outputId": "1b354dae-4fe9-4549-fe74-cf65b79abd36"
      },
      "outputs": [
        {
          "output_type": "stream",
          "name": "stdout",
          "text": [
            "Reading package lists... Done\n",
            "Building dependency tree       \n",
            "Reading state information... Done\n",
            "ffmpeg is already the newest version (7:3.4.8-0ubuntu0.2).\n",
            "0 upgraded, 0 newly installed, 0 to remove and 39 not upgraded.\n"
          ]
        }
      ],
      "source": [
        "!apt install ffmpeg"
      ]
    },
    {
      "cell_type": "markdown",
      "metadata": {
        "id": "bGEOhxcePe0Z"
      },
      "source": [
        "# Segmentation"
      ]
    },
    {
      "cell_type": "markdown",
      "source": [
        "##Padding and segmenting each file into individual coughs and equal dimension "
      ],
      "metadata": {
        "id": "GinY9tMQDCo9"
      }
    },
    {
      "cell_type": "markdown",
      "source": [
        "### As the audio samples collected from public were variable length, to keep the dimension of data in same length I used librosa for loading and segmenting the audio files to make all the audio sample uniform size and containing the cough segment. "
      ],
      "metadata": {
        "id": "LDNnv_EN4ip7"
      }
    },
    {
      "cell_type": "markdown",
      "source": [
        "###I used the segmentation method provided by the research group, which published the data collection paper."
      ],
      "metadata": {
        "id": "NK9oyZc-EiMp"
      }
    },
    {
      "cell_type": "code",
      "execution_count": 7,
      "metadata": {
        "id": "0Ch5XIgqQU2H"
      },
      "outputs": [],
      "source": [
        "import numpy as np"
      ]
    },
    {
      "cell_type": "code",
      "execution_count": 8,
      "metadata": {
        "id": "-BW4BlcZPrPW"
      },
      "outputs": [],
      "source": [
        "\n",
        "\n",
        "\n",
        "def segment_cough(x,fs, cough_padding=0.2,min_cough_len=0.2, th_l_multiplier = 0.1, th_h_multiplier = 2):\n",
        "   \n",
        "    # I got this segmentation code from the original research group who published the data collection paper.\n",
        "    \"\"\"Inputs:\n",
        "    *x (np.array): cough signal\n",
        "    *fs (float): sampling frequency in Hz\n",
        "    *cough_padding (float): number of seconds added to the beginning and end of each detected cough to make sure coughs are not cut short\n",
        "    *min_cough_length (float): length of the minimum possible segment that can be considered a cough\n",
        "    *th_l_multiplier (float): multiplier of the RMS energy used as a lower threshold of the hysteresis comparator\n",
        "    *th_h_multiplier (float): multiplier of the RMS energy used as a high threshold of the hysteresis comparator\n",
        "    \n",
        "    Outputs:\n",
        "    *coughSegments (np.array of np.arrays): a list of cough signal arrays corresponding to each cough\n",
        "    cough_mask (np.array): an array of booleans that are True at the indices where a cough is in progress\"\"\"\n",
        "                \n",
        "    cough_mask = np.array([False]*len(x))\n",
        "    \n",
        "\n",
        "    #Define hysteresis thresholds\n",
        "    rms = np.sqrt(np.mean(np.square(x)))\n",
        "    seg_th_l = th_l_multiplier * rms\n",
        "    seg_th_h =  th_h_multiplier*rms\n",
        "\n",
        "    #Segment coughs\n",
        "    coughSegments = []\n",
        "    padding = round(fs*cough_padding)\n",
        "    min_cough_samples = round(fs*min_cough_len)\n",
        "    cough_start = 0\n",
        "    cough_end = 0\n",
        "    cough_in_progress = False\n",
        "    tolerance = round(0.01*fs)\n",
        "    below_th_counter = 0\n",
        "    \n",
        "    for i, sample in enumerate(x**2):\n",
        "        if cough_in_progress:\n",
        "            if sample<seg_th_l:\n",
        "                below_th_counter += 1\n",
        "                if below_th_counter > tolerance:\n",
        "                    cough_end = i+padding if (i+padding < len(x)) else len(x)-1\n",
        "                    cough_in_progress = False\n",
        "                    if (cough_end+1-cough_start-2*padding>min_cough_samples):\n",
        "                        coughSegments.append(x[cough_start:cough_end+1])\n",
        "                        cough_mask[cough_start:cough_end+1] = True\n",
        "            elif i == (len(x)-1):\n",
        "                cough_end=i\n",
        "                cough_in_progress = False\n",
        "                if (cough_end+1-cough_start-2*padding>min_cough_samples):\n",
        "                    coughSegments.append(x[cough_start:cough_end+1])\n",
        "            else:\n",
        "                below_th_counter = 0\n",
        "        else:\n",
        "            if sample>seg_th_h:\n",
        "                cough_start = i-padding if (i-padding >=0) else 0\n",
        "                cough_in_progress = True\n",
        "    \n",
        "    return coughSegments, cough_mask\n",
        "\n"
      ]
    },
    {
      "cell_type": "markdown",
      "source": [
        "Compute the Signal-to-Noise ratio of the audio signal x (np.array) with sampling frequency fs (float)"
      ],
      "metadata": {
        "id": "bmX8MCFXDZhY"
      }
    },
    {
      "cell_type": "code",
      "execution_count": 9,
      "metadata": {
        "id": "57v_1QENP81R"
      },
      "outputs": [],
      "source": [
        "def compute_SNR(x, fs):\n",
        "    \n",
        "    segments, cough_mask = segment_cough(x,fs)\n",
        "    RMS_signal = 0 if len(x[cough_mask])==0 else np.sqrt(np.mean(np.square(x[cough_mask])))\n",
        "    RMS_noise = np.sqrt(np.mean(np.square(x[~cough_mask])))\n",
        "    SNR = 0 if (RMS_signal==0 or np.isnan(RMS_noise)) else 20*np.log10(RMS_signal/RMS_noise)\n",
        "    return SNR"
      ]
    },
    {
      "cell_type": "markdown",
      "metadata": {
        "id": "ZJkc7-JBQk_d"
      },
      "source": [
        "## Data Preparation"
      ]
    },
    {
      "cell_type": "markdown",
      "source": [
        "##Importing Librosa,keras and other libraries for model creation, training and plotting.\n"
      ],
      "metadata": {
        "id": "gg6RrvD5DnfE"
      }
    },
    {
      "cell_type": "code",
      "execution_count": null,
      "metadata": {
        "id": "lASJHzkaQoLb"
      },
      "outputs": [],
      "source": [
        "import pandas as pd\n",
        "import librosa \n",
        "import IPython.display as ipd\n",
        "import matplotlib.pyplot as plt\n",
        "import librosa.display\n",
        "from pathlib import Path\n",
        "\n",
        "import plaidml.keras\n",
        "plaidml.keras.install_backend()\n",
        "import keras\n",
        "import keras.backend as L\n",
        "from keras.applications.resnet50 import ResNet50\n",
        "from keras.layers import Flatten, Dense, Conv2D, MaxPooling2D, Input, Dropout, Activation\n",
        "from keras.models import Model, Sequential\n",
        "from keras.preprocessing.image import ImageDataGenerator\n",
        "from keras.optimizers import Adam\n",
        "from keras.layers.normalization import BatchNormalization\n",
        "\n",
        "%matplotlib inline"
      ]
    },
    {
      "cell_type": "markdown",
      "source": [
        "##Loading metadata and counting the classes"
      ],
      "metadata": {
        "id": "IA_Ifx4AERPb"
      }
    },
    {
      "cell_type": "code",
      "execution_count": 7,
      "metadata": {
        "id": "7PV3yyTUQxUP"
      },
      "outputs": [],
      "source": [
        "data = pd.read_csv(r'public_dataset/metadata_compiled.csv')"
      ]
    },
    {
      "cell_type": "code",
      "execution_count": 8,
      "metadata": {
        "id": "fln76cwdRV0T"
      },
      "outputs": [],
      "source": [
        "data = data[data[\"cough_detected\"]>0.29]"
      ]
    },
    {
      "cell_type": "code",
      "execution_count": 9,
      "metadata": {
        "id": "reXK3C7GR1U7"
      },
      "outputs": [],
      "source": [
        "SAMPLE_RATE = 48000 "
      ]
    },
    {
      "cell_type": "code",
      "execution_count": 10,
      "metadata": {
        "id": "W3huR5sBR5-w"
      },
      "outputs": [],
      "source": [
        "IMAGE_HEIGHT = 512\n",
        "IMAGE_WIDTH = 512\n",
        "IMAGE_CHANNELS = 1"
      ]
    },
    {
      "cell_type": "code",
      "execution_count": 11,
      "metadata": {
        "id": "6vxFTZooSBCL"
      },
      "outputs": [],
      "source": [
        "data[\"Filepath\"] = \"public_dataset/\"+data[\"uuid\"]"
      ]
    },
    {
      "cell_type": "code",
      "execution_count": 12,
      "metadata": {
        "id": "n904bRLCSU1W"
      },
      "outputs": [],
      "source": [
        "data = data.sort_values(by=\"cough_detected\", ascending = False)"
      ]
    },
    {
      "cell_type": "code",
      "execution_count": 13,
      "metadata": {
        "id": "uF9CkAvbSqhg"
      },
      "outputs": [],
      "source": [
        "data = data[[\"uuid\",\"cough_detected\",\"Filepath\",\"status\"]]"
      ]
    },
    {
      "cell_type": "code",
      "execution_count": 14,
      "metadata": {
        "id": "wHGr9emSS1rT"
      },
      "outputs": [],
      "source": [
        "data.dropna(axis=0, inplace=True)"
      ]
    },
    {
      "cell_type": "code",
      "execution_count": 15,
      "metadata": {
        "colab": {
          "base_uri": "https://localhost:8080/"
        },
        "id": "KZsoi6cIS5JA",
        "outputId": "ae2c6864-ad6d-401b-9685-595b8af61bfe"
      },
      "outputs": [
        {
          "output_type": "execute_result",
          "data": {
            "text/plain": [
              "healthy        10488\n",
              "symptomatic     2195\n",
              "COVID-19         835\n",
              "Name: status, dtype: int64"
            ]
          },
          "metadata": {},
          "execution_count": 15
        }
      ],
      "source": [
        "data[\"status\"].value_counts()"
      ]
    },
    {
      "cell_type": "markdown",
      "source": [
        "###To make the dataset balanced for all the classes, I chose equal no of samples from all the classes. Covid-19 had least no of samples. So I chose sample size of 835 for all the classes."
      ],
      "metadata": {
        "id": "o-3bXQVJF5mu"
      }
    },
    {
      "cell_type": "code",
      "execution_count": 16,
      "metadata": {
        "id": "_lma0s6bS9gN"
      },
      "outputs": [],
      "source": [
        "data = data.groupby('status').apply(lambda x : x.sample(835))"
      ]
    },
    {
      "cell_type": "code",
      "execution_count": 17,
      "metadata": {
        "colab": {
          "base_uri": "https://localhost:8080/"
        },
        "id": "8kpT_ZMqTKqA",
        "outputId": "ae5e1b57-5718-4a73-f82c-46e5ad06a816"
      },
      "outputs": [
        {
          "output_type": "execute_result",
          "data": {
            "text/plain": [
              "COVID-19       835\n",
              "healthy        835\n",
              "symptomatic    835\n",
              "Name: status, dtype: int64"
            ]
          },
          "metadata": {},
          "execution_count": 17
        }
      ],
      "source": [
        "data[\"status\"].value_counts()"
      ]
    },
    {
      "cell_type": "code",
      "execution_count": 18,
      "metadata": {
        "id": "yp7bVMh4TR8P",
        "colab": {
          "base_uri": "https://localhost:8080/",
          "height": 455
        },
        "outputId": "e69c50b8-c6eb-4a2a-e343-981818238023"
      },
      "outputs": [
        {
          "output_type": "execute_result",
          "data": {
            "text/plain": [
              "                                                   uuid  cough_detected  \\\n",
              "status                                                                    \n",
              "COVID-19    3446   20602da6-a92f-40ad-81d2-1688f5f1fcde          1.0000   \n",
              "            4865   2de3fb8f-20a6-4fa5-8428-11cad3338d37          1.0000   \n",
              "            7425   450ae1f5-1fbb-41f7-9a93-8c755cfaf46c          0.6382   \n",
              "            9810   5b5fb2f4-900a-4023-b4fd-c55b66dc065b          1.0000   \n",
              "            14707  88571a5b-7d25-4373-86f8-f784dbceabec          1.0000   \n",
              "...                                                 ...             ...   \n",
              "symptomatic 15540  904bdbb3-df12-48d9-9825-714bc492740a          0.6503   \n",
              "            3696   22ac9dc4-858e-4db5-886e-792d7553e67f          1.0000   \n",
              "            10240  5f6cf762-842b-41bd-aa51-6ad8e61ae0c3          0.9414   \n",
              "            16385  982a12aa-e32f-42a8-8f62-0079d0362b20          0.9202   \n",
              "            12275  71b26116-62cd-46ca-89a4-0642e0f2bc52          1.0000   \n",
              "\n",
              "                                                            Filepath  \\\n",
              "status                                                                 \n",
              "COVID-19    3446   public_dataset/20602da6-a92f-40ad-81d2-1688f5f...   \n",
              "            4865   public_dataset/2de3fb8f-20a6-4fa5-8428-11cad33...   \n",
              "            7425   public_dataset/450ae1f5-1fbb-41f7-9a93-8c755cf...   \n",
              "            9810   public_dataset/5b5fb2f4-900a-4023-b4fd-c55b66d...   \n",
              "            14707  public_dataset/88571a5b-7d25-4373-86f8-f784dbc...   \n",
              "...                                                              ...   \n",
              "symptomatic 15540  public_dataset/904bdbb3-df12-48d9-9825-714bc49...   \n",
              "            3696   public_dataset/22ac9dc4-858e-4db5-886e-792d755...   \n",
              "            10240  public_dataset/5f6cf762-842b-41bd-aa51-6ad8e61...   \n",
              "            16385  public_dataset/982a12aa-e32f-42a8-8f62-0079d03...   \n",
              "            12275  public_dataset/71b26116-62cd-46ca-89a4-0642e0f...   \n",
              "\n",
              "                        status  \n",
              "status                          \n",
              "COVID-19    3446      COVID-19  \n",
              "            4865      COVID-19  \n",
              "            7425      COVID-19  \n",
              "            9810      COVID-19  \n",
              "            14707     COVID-19  \n",
              "...                        ...  \n",
              "symptomatic 15540  symptomatic  \n",
              "            3696   symptomatic  \n",
              "            10240  symptomatic  \n",
              "            16385  symptomatic  \n",
              "            12275  symptomatic  \n",
              "\n",
              "[2505 rows x 4 columns]"
            ],
            "text/html": [
              "\n",
              "  <div id=\"df-dbe553b4-5c5b-412c-92af-d088682d077d\">\n",
              "    <div class=\"colab-df-container\">\n",
              "      <div>\n",
              "<style scoped>\n",
              "    .dataframe tbody tr th:only-of-type {\n",
              "        vertical-align: middle;\n",
              "    }\n",
              "\n",
              "    .dataframe tbody tr th {\n",
              "        vertical-align: top;\n",
              "    }\n",
              "\n",
              "    .dataframe thead th {\n",
              "        text-align: right;\n",
              "    }\n",
              "</style>\n",
              "<table border=\"1\" class=\"dataframe\">\n",
              "  <thead>\n",
              "    <tr style=\"text-align: right;\">\n",
              "      <th></th>\n",
              "      <th></th>\n",
              "      <th>uuid</th>\n",
              "      <th>cough_detected</th>\n",
              "      <th>Filepath</th>\n",
              "      <th>status</th>\n",
              "    </tr>\n",
              "    <tr>\n",
              "      <th>status</th>\n",
              "      <th></th>\n",
              "      <th></th>\n",
              "      <th></th>\n",
              "      <th></th>\n",
              "      <th></th>\n",
              "    </tr>\n",
              "  </thead>\n",
              "  <tbody>\n",
              "    <tr>\n",
              "      <th rowspan=\"5\" valign=\"top\">COVID-19</th>\n",
              "      <th>3446</th>\n",
              "      <td>20602da6-a92f-40ad-81d2-1688f5f1fcde</td>\n",
              "      <td>1.0000</td>\n",
              "      <td>public_dataset/20602da6-a92f-40ad-81d2-1688f5f...</td>\n",
              "      <td>COVID-19</td>\n",
              "    </tr>\n",
              "    <tr>\n",
              "      <th>4865</th>\n",
              "      <td>2de3fb8f-20a6-4fa5-8428-11cad3338d37</td>\n",
              "      <td>1.0000</td>\n",
              "      <td>public_dataset/2de3fb8f-20a6-4fa5-8428-11cad33...</td>\n",
              "      <td>COVID-19</td>\n",
              "    </tr>\n",
              "    <tr>\n",
              "      <th>7425</th>\n",
              "      <td>450ae1f5-1fbb-41f7-9a93-8c755cfaf46c</td>\n",
              "      <td>0.6382</td>\n",
              "      <td>public_dataset/450ae1f5-1fbb-41f7-9a93-8c755cf...</td>\n",
              "      <td>COVID-19</td>\n",
              "    </tr>\n",
              "    <tr>\n",
              "      <th>9810</th>\n",
              "      <td>5b5fb2f4-900a-4023-b4fd-c55b66dc065b</td>\n",
              "      <td>1.0000</td>\n",
              "      <td>public_dataset/5b5fb2f4-900a-4023-b4fd-c55b66d...</td>\n",
              "      <td>COVID-19</td>\n",
              "    </tr>\n",
              "    <tr>\n",
              "      <th>14707</th>\n",
              "      <td>88571a5b-7d25-4373-86f8-f784dbceabec</td>\n",
              "      <td>1.0000</td>\n",
              "      <td>public_dataset/88571a5b-7d25-4373-86f8-f784dbc...</td>\n",
              "      <td>COVID-19</td>\n",
              "    </tr>\n",
              "    <tr>\n",
              "      <th>...</th>\n",
              "      <th>...</th>\n",
              "      <td>...</td>\n",
              "      <td>...</td>\n",
              "      <td>...</td>\n",
              "      <td>...</td>\n",
              "    </tr>\n",
              "    <tr>\n",
              "      <th rowspan=\"5\" valign=\"top\">symptomatic</th>\n",
              "      <th>15540</th>\n",
              "      <td>904bdbb3-df12-48d9-9825-714bc492740a</td>\n",
              "      <td>0.6503</td>\n",
              "      <td>public_dataset/904bdbb3-df12-48d9-9825-714bc49...</td>\n",
              "      <td>symptomatic</td>\n",
              "    </tr>\n",
              "    <tr>\n",
              "      <th>3696</th>\n",
              "      <td>22ac9dc4-858e-4db5-886e-792d7553e67f</td>\n",
              "      <td>1.0000</td>\n",
              "      <td>public_dataset/22ac9dc4-858e-4db5-886e-792d755...</td>\n",
              "      <td>symptomatic</td>\n",
              "    </tr>\n",
              "    <tr>\n",
              "      <th>10240</th>\n",
              "      <td>5f6cf762-842b-41bd-aa51-6ad8e61ae0c3</td>\n",
              "      <td>0.9414</td>\n",
              "      <td>public_dataset/5f6cf762-842b-41bd-aa51-6ad8e61...</td>\n",
              "      <td>symptomatic</td>\n",
              "    </tr>\n",
              "    <tr>\n",
              "      <th>16385</th>\n",
              "      <td>982a12aa-e32f-42a8-8f62-0079d0362b20</td>\n",
              "      <td>0.9202</td>\n",
              "      <td>public_dataset/982a12aa-e32f-42a8-8f62-0079d03...</td>\n",
              "      <td>symptomatic</td>\n",
              "    </tr>\n",
              "    <tr>\n",
              "      <th>12275</th>\n",
              "      <td>71b26116-62cd-46ca-89a4-0642e0f2bc52</td>\n",
              "      <td>1.0000</td>\n",
              "      <td>public_dataset/71b26116-62cd-46ca-89a4-0642e0f...</td>\n",
              "      <td>symptomatic</td>\n",
              "    </tr>\n",
              "  </tbody>\n",
              "</table>\n",
              "<p>2505 rows × 4 columns</p>\n",
              "</div>\n",
              "      <button class=\"colab-df-convert\" onclick=\"convertToInteractive('df-dbe553b4-5c5b-412c-92af-d088682d077d')\"\n",
              "              title=\"Convert this dataframe to an interactive table.\"\n",
              "              style=\"display:none;\">\n",
              "        \n",
              "  <svg xmlns=\"http://www.w3.org/2000/svg\" height=\"24px\"viewBox=\"0 0 24 24\"\n",
              "       width=\"24px\">\n",
              "    <path d=\"M0 0h24v24H0V0z\" fill=\"none\"/>\n",
              "    <path d=\"M18.56 5.44l.94 2.06.94-2.06 2.06-.94-2.06-.94-.94-2.06-.94 2.06-2.06.94zm-11 1L8.5 8.5l.94-2.06 2.06-.94-2.06-.94L8.5 2.5l-.94 2.06-2.06.94zm10 10l.94 2.06.94-2.06 2.06-.94-2.06-.94-.94-2.06-.94 2.06-2.06.94z\"/><path d=\"M17.41 7.96l-1.37-1.37c-.4-.4-.92-.59-1.43-.59-.52 0-1.04.2-1.43.59L10.3 9.45l-7.72 7.72c-.78.78-.78 2.05 0 2.83L4 21.41c.39.39.9.59 1.41.59.51 0 1.02-.2 1.41-.59l7.78-7.78 2.81-2.81c.8-.78.8-2.07 0-2.86zM5.41 20L4 18.59l7.72-7.72 1.47 1.35L5.41 20z\"/>\n",
              "  </svg>\n",
              "      </button>\n",
              "      \n",
              "  <style>\n",
              "    .colab-df-container {\n",
              "      display:flex;\n",
              "      flex-wrap:wrap;\n",
              "      gap: 12px;\n",
              "    }\n",
              "\n",
              "    .colab-df-convert {\n",
              "      background-color: #E8F0FE;\n",
              "      border: none;\n",
              "      border-radius: 50%;\n",
              "      cursor: pointer;\n",
              "      display: none;\n",
              "      fill: #1967D2;\n",
              "      height: 32px;\n",
              "      padding: 0 0 0 0;\n",
              "      width: 32px;\n",
              "    }\n",
              "\n",
              "    .colab-df-convert:hover {\n",
              "      background-color: #E2EBFA;\n",
              "      box-shadow: 0px 1px 2px rgba(60, 64, 67, 0.3), 0px 1px 3px 1px rgba(60, 64, 67, 0.15);\n",
              "      fill: #174EA6;\n",
              "    }\n",
              "\n",
              "    [theme=dark] .colab-df-convert {\n",
              "      background-color: #3B4455;\n",
              "      fill: #D2E3FC;\n",
              "    }\n",
              "\n",
              "    [theme=dark] .colab-df-convert:hover {\n",
              "      background-color: #434B5C;\n",
              "      box-shadow: 0px 1px 3px 1px rgba(0, 0, 0, 0.15);\n",
              "      filter: drop-shadow(0px 1px 2px rgba(0, 0, 0, 0.3));\n",
              "      fill: #FFFFFF;\n",
              "    }\n",
              "  </style>\n",
              "\n",
              "      <script>\n",
              "        const buttonEl =\n",
              "          document.querySelector('#df-dbe553b4-5c5b-412c-92af-d088682d077d button.colab-df-convert');\n",
              "        buttonEl.style.display =\n",
              "          google.colab.kernel.accessAllowed ? 'block' : 'none';\n",
              "\n",
              "        async function convertToInteractive(key) {\n",
              "          const element = document.querySelector('#df-dbe553b4-5c5b-412c-92af-d088682d077d');\n",
              "          const dataTable =\n",
              "            await google.colab.kernel.invokeFunction('convertToInteractive',\n",
              "                                                     [key], {});\n",
              "          if (!dataTable) return;\n",
              "\n",
              "          const docLinkHtml = 'Like what you see? Visit the ' +\n",
              "            '<a target=\"_blank\" href=https://colab.research.google.com/notebooks/data_table.ipynb>data table notebook</a>'\n",
              "            + ' to learn more about interactive tables.';\n",
              "          element.innerHTML = '';\n",
              "          dataTable['output_type'] = 'display_data';\n",
              "          await google.colab.output.renderOutput(dataTable, element);\n",
              "          const docLink = document.createElement('div');\n",
              "          docLink.innerHTML = docLinkHtml;\n",
              "          element.appendChild(docLink);\n",
              "        }\n",
              "      </script>\n",
              "    </div>\n",
              "  </div>\n",
              "  "
            ]
          },
          "metadata": {},
          "execution_count": 18
        }
      ],
      "source": [
        "data"
      ]
    },
    {
      "cell_type": "markdown",
      "source": [
        "##Feature Extraction and Saving Mel-Spectrograms"
      ],
      "metadata": {
        "id": "TMEidA5uE4O-"
      }
    },
    {
      "cell_type": "markdown",
      "source": [
        "###Though there are different kind of audio features can be extracted, but I chose to extract Mel-Frequency Cepstral Coefficients (MFCC). MFCCs encode timbral information. Other papers also used MFFC of cough to diagnose different kind of health conditions. "
      ],
      "metadata": {
        "id": "Zp5_KifJGXP3"
      }
    },
    {
      "cell_type": "code",
      "execution_count": 19,
      "metadata": {
        "id": "PuyOicDpUWXS"
      },
      "outputs": [],
      "source": [
        "import os\n",
        "from tqdm import tqdm"
      ]
    },
    {
      "cell_type": "code",
      "execution_count": null,
      "metadata": {
        "id": "yg-WvLefZw9c"
      },
      "outputs": [],
      "source": [
        "if input()==\"YES\":\n",
        "   import shutil\n",
        "   shutil.rmtree('MFCCS')\n"
      ]
    },
    {
      "cell_type": "code",
      "execution_count": null,
      "metadata": {
        "id": "cQT1-M6-UAfT"
      },
      "outputs": [],
      "source": [
        "destination=\"MFCCS/\"\n",
        "os.makedirs('MFCCS/Mel_Spectrogram/COVID-19')\n",
        "os.makedirs('MFCCS/MFCC1/COVID-19')\n"
      ]
    },
    {
      "cell_type": "code",
      "execution_count": null,
      "metadata": {
        "id": "bqJCbkw7dAf0"
      },
      "outputs": [],
      "source": [
        "os.mkdir('MFCCS/Mel_Spectrogram/healthy')\n",
        "os.mkdir('MFCCS/MFCC1/healthy')"
      ]
    },
    {
      "cell_type": "code",
      "execution_count": null,
      "metadata": {
        "id": "PRp75DbsdRO-"
      },
      "outputs": [],
      "source": [
        "os.mkdir('MFCCS/Mel_Spectrogram/symptomatic')\n",
        "os.mkdir('MFCCS/MFCC1/symptomatic')"
      ]
    },
    {
      "cell_type": "code",
      "execution_count": null,
      "metadata": {
        "id": "CVvd99BRTUkt"
      },
      "outputs": [],
      "source": [
        "def prepare_dataset(destination, sr=SAMPLE_RATE):\n",
        "    for i,x in tqdm(data.iterrows()):\n",
        "        filename = x[\"Filepath\"]\n",
        "        label = x[\"status\"]\n",
        "        uuid = x[\"uuid\"]\n",
        "        if label==\"symptomatic\":\n",
        "            try:\n",
        "                x, sr = librosa.load(filename+\".webm\", sr = sr)\n",
        "            except:\n",
        "                try:\n",
        "                    x, sr = librosa.load(filename+\".ogg\", sr = sr)\n",
        "                except:\n",
        "                    print(\"File does not exist\")\n",
        "            cough_segments, cough_mask = segment_cough(x,sr, cough_padding=0)\n",
        "            dest = destination+\"Mel_Spectrogram/\"+label+\"/\"+uuid+\".png\"\n",
        "            if Path(dest).is_file():\n",
        "                continue\n",
        "            else:\n",
        "                if(len(cough_segments)>0):\n",
        "                    mel_spec = librosa.feature.melspectrogram(cough_segments[0] , sr = sr, n_fft = 2048, hop_length = 512, n_mels = 90)\n",
        "                    log_mel_spec = librosa.power_to_db(mel_spec)\n",
        "                    fig = plt.figure(figsize=(25,10))\n",
        "                    librosa.display.specshow(log_mel_spec,\n",
        "                                      x_axis=\"time\",\n",
        "                                      y_axis=\"mel\",\n",
        "                                      sr=SAMPLE_RATE)\n",
        "                    plt.savefig(dest)\n",
        "                    plt.close()\n",
        "            dest = destination+\"MFCC1/\"+label+\"/\"+uuid+\".png\"\n",
        "            if Path(dest).is_file():\n",
        "                continue\n",
        "            else:\n",
        "                if(len(cough_segments)>0):\n",
        "                    mfcc = librosa.feature.mfcc(cough_segments[0] , sr = sr, n_mfcc=13)\n",
        "                    fig = plt.figure(figsize=(25,10))\n",
        "                    librosa.display.specshow(mfcc,\n",
        "                                      x_axis=\"time\",\n",
        "                                      sr=sr)\n",
        "                    plt.savefig(dest)\n",
        "                    plt.close()"
      ]
    },
    {
      "cell_type": "code",
      "execution_count": null,
      "metadata": {
        "id": "Erqpf_JhTzDH"
      },
      "outputs": [],
      "source": [
        "prepare_dataset(destination)"
      ]
    },
    {
      "cell_type": "markdown",
      "metadata": {
        "id": "KTZLWpJohKQZ"
      },
      "source": [
        "## Save MFCCS to google drive"
      ]
    },
    {
      "cell_type": "code",
      "execution_count": 21,
      "metadata": {
        "id": "8PciGpk7hPjk",
        "colab": {
          "base_uri": "https://localhost:8080/"
        },
        "outputId": "876c5721-af3f-4dc2-9989-c7daea6317df"
      },
      "outputs": [
        {
          "output_type": "stream",
          "name": "stdout",
          "text": [
            "Drive already mounted at /content/drive; to attempt to forcibly remount, call drive.mount(\"/content/drive\", force_remount=True).\n"
          ]
        }
      ],
      "source": [
        "from google.colab import drive\n",
        "drive.mount('/content/drive')"
      ]
    },
    {
      "cell_type": "code",
      "execution_count": 22,
      "metadata": {
        "id": "3CQXbRtdhlPV",
        "colab": {
          "base_uri": "https://localhost:8080/"
        },
        "outputId": "ddb0fe44-03c9-46c1-a702-288c2181d5a5"
      },
      "outputs": [
        {
          "output_type": "stream",
          "name": "stdout",
          "text": [
            "cp: cannot stat 'MFCCS/MFCC1/symptomatic': No such file or directory\n"
          ]
        }
      ],
      "source": [
        "!cp -r \"MFCCS/MFCC1/symptomatic\" \"/content/drive/My Drive/MFCC/symptomatic\""
      ]
    },
    {
      "cell_type": "code",
      "execution_count": 22,
      "metadata": {
        "id": "ccinQxVglgfT"
      },
      "outputs": [],
      "source": [
        ""
      ]
    },
    {
      "cell_type": "code",
      "execution_count": 22,
      "metadata": {
        "id": "63cs5feiazyp"
      },
      "outputs": [],
      "source": [
        ""
      ]
    },
    {
      "cell_type": "markdown",
      "metadata": {
        "id": "0njKWdyShvn2"
      },
      "source": [
        "## Load Data from Google Drive"
      ]
    },
    {
      "cell_type": "code",
      "execution_count": 11,
      "metadata": {
        "colab": {
          "base_uri": "https://localhost:8080/"
        },
        "id": "tjnEKyOMhz9p",
        "outputId": "4200d7de-eceb-46b3-cb5b-86879086c100"
      },
      "outputs": [
        {
          "output_type": "stream",
          "name": "stdout",
          "text": [
            "Drive already mounted at /content/drive; to attempt to forcibly remount, call drive.mount(\"/content/drive\", force_remount=True).\n"
          ]
        }
      ],
      "source": [
        "from google.colab import drive\n",
        "drive.mount('/content/drive')"
      ]
    },
    {
      "cell_type": "code",
      "execution_count": 12,
      "metadata": {
        "id": "hHP3_x6ZiSHK"
      },
      "outputs": [],
      "source": [
        "covid_path= '/content/drive/My Drive/MFCC/Covid/COVID-19'\n",
        "healthy_path = '/content/drive/My Drive/MFCC/healthy'\n",
        "symptomatic_path = '/content/drive/My Drive/MFCC/symptomatic'"
      ]
    },
    {
      "cell_type": "markdown",
      "metadata": {
        "id": "WF9H5IR2j8lH"
      },
      "source": [
        "## Training"
      ]
    },
    {
      "cell_type": "code",
      "execution_count": null,
      "metadata": {
        "id": "ZeJagKW_j_zd"
      },
      "outputs": [],
      "source": [
        "import numpy as np\n",
        "import pandas as pd\n",
        "import os\n",
        "import matplotlib.pyplot as plt\n",
        "\n",
        "import random\n",
        "import keras\n",
        "from keras.models import Sequential\n",
        "import time\n",
        "from tensorflow.keras.optimizers import Adam,RMSprop\n",
        "from keras.layers import Dropout,Conv2D, ZeroPadding2D, Activation, Input, concatenate\n",
        "from keras.models import Model\n",
        "import seaborn as sns\n",
        "from keras.layers import BatchNormalization\n",
        "from keras.layers.pooling import MaxPooling2D\n",
        "from keras.layers.core import Lambda, Flatten, Dense\n",
        "from keras.initializers import glorot_uniform\n",
        "from keras.optimizers import *\n",
        "from keras.layers import Layer\n",
        "from keras import backend as K\n",
        "from keras.regularizers import l2\n",
        "import pandas as pd\n",
        "import cv2 as cv\n",
        "from keras.preprocessing.image import ImageDataGenerator"
      ]
    },
    {
      "cell_type": "markdown",
      "source": [
        "##File path for MFCC spectrograms"
      ],
      "metadata": {
        "id": "c30GjpZ0FLS-"
      }
    },
    {
      "cell_type": "code",
      "execution_count": 26,
      "metadata": {
        "id": "nZBd4GzDkCu7"
      },
      "outputs": [],
      "source": [
        "covid_model = covid_path + '/0eba0c0a-5609-4777-903d-b15292798250.png'\n",
        "healthy_model = healthy_path + '/0cb18590-3107-42dc-b0ca-63b897f15a8b.png'\n",
        "symptomatic_model = symptomatic_path + '/0eef6d8c-73f0-4c59-8155-3786687f5ff0.png'"
      ]
    },
    {
      "cell_type": "markdown",
      "source": [
        "##Preparing DataFrame from spectrogram Images "
      ],
      "metadata": {
        "id": "KkW0TEfyFd3v"
      }
    },
    {
      "cell_type": "code",
      "execution_count": 27,
      "metadata": {
        "id": "w_iJdH4Ql4SG"
      },
      "outputs": [],
      "source": [
        "df = pd.DataFrame()"
      ]
    },
    {
      "cell_type": "code",
      "execution_count": 28,
      "metadata": {
        "id": "s5qsFN95l8Xd"
      },
      "outputs": [],
      "source": [
        "X1 = []\n",
        "X2 = []\n",
        "Y = []\n",
        "\n",
        "for file in os.listdir(covid_path):\n",
        "  X1.append(covid_model)\n",
        "  X2.append(os.path.join(covid_path,file))\n",
        "  Y.append(0)\n",
        "\n",
        "for file in os.listdir(healthy_path):\n",
        "  X1.append(healthy_model)\n",
        "  X2.append(os.path.join(healthy_path,file))\n",
        "  Y.append(0)\n",
        "\n",
        "for file in os.listdir(symptomatic_path):\n",
        "  X1.append(symptomatic_model)\n",
        "  X2.append(os.path.join(symptomatic_path,file))\n",
        "  Y.append(0)"
      ]
    },
    {
      "cell_type": "code",
      "execution_count": 29,
      "metadata": {
        "colab": {
          "base_uri": "https://localhost:8080/"
        },
        "id": "nKAlU9AxmAaR",
        "outputId": "d4e9c55b-120c-426f-d4a6-bdb195bcc87d"
      },
      "outputs": [
        {
          "output_type": "execute_result",
          "data": {
            "text/plain": [
              "(2231, 2231, 2231)"
            ]
          },
          "metadata": {},
          "execution_count": 29
        }
      ],
      "source": [
        "len(X1),len(X2),len(Y)"
      ]
    },
    {
      "cell_type": "code",
      "execution_count": 30,
      "metadata": {
        "id": "DuBsbS_umTS5"
      },
      "outputs": [],
      "source": [
        "for file in os.listdir(covid_path):\n",
        "  X1.append(healthy_model)\n",
        "  X1.append(symptomatic_model)\n",
        "  X2.append(os.path.join(covid_path,file))\n",
        "  X2.append(os.path.join(covid_path,file))\n",
        "  Y.append(1)\n",
        "  Y.append(1)\n",
        "\n",
        "for file in os.listdir(healthy_path):\n",
        "  X1.append(covid_model)\n",
        "  X1.append(symptomatic_model)\n",
        "  X2.append(os.path.join(healthy_path,file))\n",
        "  X2.append(os.path.join(healthy_path,file))\n",
        "  Y.append(1)\n",
        "  Y.append(1)\n",
        "\n",
        "for file in os.listdir(symptomatic_path):\n",
        "  X1.append(healthy_model)\n",
        "  X1.append(covid_model)\n",
        "  X2.append(os.path.join(symptomatic_path,file))\n",
        "  X2.append(os.path.join(symptomatic_path,file))\n",
        "  Y.append(1)\n",
        "  Y.append(1)"
      ]
    },
    {
      "cell_type": "code",
      "execution_count": 31,
      "metadata": {
        "colab": {
          "base_uri": "https://localhost:8080/"
        },
        "id": "m_ElYyhdffpl",
        "outputId": "dc4fcd6d-b806-4c8f-97c7-e2557313af98"
      },
      "outputs": [
        {
          "output_type": "execute_result",
          "data": {
            "text/plain": [
              "(6693, 6693, 6693)"
            ]
          },
          "metadata": {},
          "execution_count": 31
        }
      ],
      "source": [
        "len(X1),len(X2),len(Y)"
      ]
    },
    {
      "cell_type": "code",
      "execution_count": 32,
      "metadata": {
        "colab": {
          "base_uri": "https://localhost:8080/"
        },
        "id": "AmMH2-N2kNfz",
        "outputId": "f6f21344-5da3-43e8-df68-16d3e4a1e98a"
      },
      "outputs": [
        {
          "output_type": "execute_result",
          "data": {
            "text/plain": [
              "12"
            ]
          },
          "metadata": {},
          "execution_count": 32
        }
      ],
      "source": [
        "(6693+2231)%16"
      ]
    },
    {
      "cell_type": "code",
      "execution_count": 33,
      "metadata": {
        "id": "yMz3HeaYmbmA"
      },
      "outputs": [],
      "source": [
        "df[\"X1\"] = X1\n",
        "df[\"X2\"] = X2\n",
        "df[\"Y\"] = Y"
      ]
    },
    {
      "cell_type": "code",
      "execution_count": 34,
      "metadata": {
        "id": "wMm5z4Hwmfv_"
      },
      "outputs": [],
      "source": [
        "df = df.sample(frac=1).reset_index(drop=True)"
      ]
    },
    {
      "cell_type": "code",
      "source": [
        "df.head()"
      ],
      "metadata": {
        "colab": {
          "base_uri": "https://localhost:8080/",
          "height": 206
        },
        "id": "8gPPbHdU53bj",
        "outputId": "12957ada-8895-4b19-ff10-5783238868c3"
      },
      "execution_count": 35,
      "outputs": [
        {
          "output_type": "execute_result",
          "data": {
            "text/plain": [
              "                                                  X1  \\\n",
              "0  /content/drive/My Drive/MFCC/Covid/COVID-19/0e...   \n",
              "1  /content/drive/My Drive/MFCC/symptomatic/0eef6...   \n",
              "2  /content/drive/My Drive/MFCC/Covid/COVID-19/0e...   \n",
              "3  /content/drive/My Drive/MFCC/Covid/COVID-19/0e...   \n",
              "4  /content/drive/My Drive/MFCC/Covid/COVID-19/0e...   \n",
              "\n",
              "                                                  X2  Y  \n",
              "0  /content/drive/My Drive/MFCC/Covid/COVID-19/7d...  0  \n",
              "1  /content/drive/My Drive/MFCC/healthy/c2ff4fda-...  1  \n",
              "2  /content/drive/My Drive/MFCC/Covid/COVID-19/03...  0  \n",
              "3  /content/drive/My Drive/MFCC/symptomatic/8469a...  1  \n",
              "4  /content/drive/My Drive/MFCC/healthy/9666a7d7-...  1  "
            ],
            "text/html": [
              "\n",
              "  <div id=\"df-32333865-9c02-4b2f-ac26-76fcad497de7\">\n",
              "    <div class=\"colab-df-container\">\n",
              "      <div>\n",
              "<style scoped>\n",
              "    .dataframe tbody tr th:only-of-type {\n",
              "        vertical-align: middle;\n",
              "    }\n",
              "\n",
              "    .dataframe tbody tr th {\n",
              "        vertical-align: top;\n",
              "    }\n",
              "\n",
              "    .dataframe thead th {\n",
              "        text-align: right;\n",
              "    }\n",
              "</style>\n",
              "<table border=\"1\" class=\"dataframe\">\n",
              "  <thead>\n",
              "    <tr style=\"text-align: right;\">\n",
              "      <th></th>\n",
              "      <th>X1</th>\n",
              "      <th>X2</th>\n",
              "      <th>Y</th>\n",
              "    </tr>\n",
              "  </thead>\n",
              "  <tbody>\n",
              "    <tr>\n",
              "      <th>0</th>\n",
              "      <td>/content/drive/My Drive/MFCC/Covid/COVID-19/0e...</td>\n",
              "      <td>/content/drive/My Drive/MFCC/Covid/COVID-19/7d...</td>\n",
              "      <td>0</td>\n",
              "    </tr>\n",
              "    <tr>\n",
              "      <th>1</th>\n",
              "      <td>/content/drive/My Drive/MFCC/symptomatic/0eef6...</td>\n",
              "      <td>/content/drive/My Drive/MFCC/healthy/c2ff4fda-...</td>\n",
              "      <td>1</td>\n",
              "    </tr>\n",
              "    <tr>\n",
              "      <th>2</th>\n",
              "      <td>/content/drive/My Drive/MFCC/Covid/COVID-19/0e...</td>\n",
              "      <td>/content/drive/My Drive/MFCC/Covid/COVID-19/03...</td>\n",
              "      <td>0</td>\n",
              "    </tr>\n",
              "    <tr>\n",
              "      <th>3</th>\n",
              "      <td>/content/drive/My Drive/MFCC/Covid/COVID-19/0e...</td>\n",
              "      <td>/content/drive/My Drive/MFCC/symptomatic/8469a...</td>\n",
              "      <td>1</td>\n",
              "    </tr>\n",
              "    <tr>\n",
              "      <th>4</th>\n",
              "      <td>/content/drive/My Drive/MFCC/Covid/COVID-19/0e...</td>\n",
              "      <td>/content/drive/My Drive/MFCC/healthy/9666a7d7-...</td>\n",
              "      <td>1</td>\n",
              "    </tr>\n",
              "  </tbody>\n",
              "</table>\n",
              "</div>\n",
              "      <button class=\"colab-df-convert\" onclick=\"convertToInteractive('df-32333865-9c02-4b2f-ac26-76fcad497de7')\"\n",
              "              title=\"Convert this dataframe to an interactive table.\"\n",
              "              style=\"display:none;\">\n",
              "        \n",
              "  <svg xmlns=\"http://www.w3.org/2000/svg\" height=\"24px\"viewBox=\"0 0 24 24\"\n",
              "       width=\"24px\">\n",
              "    <path d=\"M0 0h24v24H0V0z\" fill=\"none\"/>\n",
              "    <path d=\"M18.56 5.44l.94 2.06.94-2.06 2.06-.94-2.06-.94-.94-2.06-.94 2.06-2.06.94zm-11 1L8.5 8.5l.94-2.06 2.06-.94-2.06-.94L8.5 2.5l-.94 2.06-2.06.94zm10 10l.94 2.06.94-2.06 2.06-.94-2.06-.94-.94-2.06-.94 2.06-2.06.94z\"/><path d=\"M17.41 7.96l-1.37-1.37c-.4-.4-.92-.59-1.43-.59-.52 0-1.04.2-1.43.59L10.3 9.45l-7.72 7.72c-.78.78-.78 2.05 0 2.83L4 21.41c.39.39.9.59 1.41.59.51 0 1.02-.2 1.41-.59l7.78-7.78 2.81-2.81c.8-.78.8-2.07 0-2.86zM5.41 20L4 18.59l7.72-7.72 1.47 1.35L5.41 20z\"/>\n",
              "  </svg>\n",
              "      </button>\n",
              "      \n",
              "  <style>\n",
              "    .colab-df-container {\n",
              "      display:flex;\n",
              "      flex-wrap:wrap;\n",
              "      gap: 12px;\n",
              "    }\n",
              "\n",
              "    .colab-df-convert {\n",
              "      background-color: #E8F0FE;\n",
              "      border: none;\n",
              "      border-radius: 50%;\n",
              "      cursor: pointer;\n",
              "      display: none;\n",
              "      fill: #1967D2;\n",
              "      height: 32px;\n",
              "      padding: 0 0 0 0;\n",
              "      width: 32px;\n",
              "    }\n",
              "\n",
              "    .colab-df-convert:hover {\n",
              "      background-color: #E2EBFA;\n",
              "      box-shadow: 0px 1px 2px rgba(60, 64, 67, 0.3), 0px 1px 3px 1px rgba(60, 64, 67, 0.15);\n",
              "      fill: #174EA6;\n",
              "    }\n",
              "\n",
              "    [theme=dark] .colab-df-convert {\n",
              "      background-color: #3B4455;\n",
              "      fill: #D2E3FC;\n",
              "    }\n",
              "\n",
              "    [theme=dark] .colab-df-convert:hover {\n",
              "      background-color: #434B5C;\n",
              "      box-shadow: 0px 1px 3px 1px rgba(0, 0, 0, 0.15);\n",
              "      filter: drop-shadow(0px 1px 2px rgba(0, 0, 0, 0.3));\n",
              "      fill: #FFFFFF;\n",
              "    }\n",
              "  </style>\n",
              "\n",
              "      <script>\n",
              "        const buttonEl =\n",
              "          document.querySelector('#df-32333865-9c02-4b2f-ac26-76fcad497de7 button.colab-df-convert');\n",
              "        buttonEl.style.display =\n",
              "          google.colab.kernel.accessAllowed ? 'block' : 'none';\n",
              "\n",
              "        async function convertToInteractive(key) {\n",
              "          const element = document.querySelector('#df-32333865-9c02-4b2f-ac26-76fcad497de7');\n",
              "          const dataTable =\n",
              "            await google.colab.kernel.invokeFunction('convertToInteractive',\n",
              "                                                     [key], {});\n",
              "          if (!dataTable) return;\n",
              "\n",
              "          const docLinkHtml = 'Like what you see? Visit the ' +\n",
              "            '<a target=\"_blank\" href=https://colab.research.google.com/notebooks/data_table.ipynb>data table notebook</a>'\n",
              "            + ' to learn more about interactive tables.';\n",
              "          element.innerHTML = '';\n",
              "          dataTable['output_type'] = 'display_data';\n",
              "          await google.colab.output.renderOutput(dataTable, element);\n",
              "          const docLink = document.createElement('div');\n",
              "          docLink.innerHTML = docLinkHtml;\n",
              "          element.appendChild(docLink);\n",
              "        }\n",
              "      </script>\n",
              "    </div>\n",
              "  </div>\n",
              "  "
            ]
          },
          "metadata": {},
          "execution_count": 35
        }
      ]
    },
    {
      "cell_type": "markdown",
      "source": [
        "##Data generator for training and training"
      ],
      "metadata": {
        "id": "FD4MHSaHGvXt"
      }
    },
    {
      "cell_type": "code",
      "execution_count": 36,
      "metadata": {
        "id": "sh31lZeZmiiI"
      },
      "outputs": [],
      "source": [
        "from sklearn.model_selection import train_test_split\n",
        "\n",
        "train, test = train_test_split(df, test_size = 0.2)"
      ]
    },
    {
      "cell_type": "code",
      "execution_count": 37,
      "metadata": {
        "id": "Ocmi_FTTmlWA"
      },
      "outputs": [],
      "source": [
        "input_imgen = ImageDataGenerator(rescale = 1./255)\n",
        "\n",
        "test_imgen = ImageDataGenerator(rescale = 1./255)\n",
        "\n",
        "\n",
        "\n",
        "def generate_generator_multiple(generator,df, batch_size, img_height,img_width):\n",
        "    genX1 = generator.flow_from_dataframe(df,\n",
        "                                          directory = None,\n",
        "                                          x_col = \"X1\",\n",
        "                                          y_col = \"Y\",\n",
        "                                          color_mode = \"grayscale\",\n",
        "                                          target_size = (img_height,img_width),\n",
        "                                          class_mode = 'raw',\n",
        "                                          batch_size = batch_size,\n",
        "                                          shuffle=False, \n",
        "                                          seed=7)\n",
        "    \n",
        "    genX2 = generator.flow_from_dataframe(df,\n",
        "                                          directory = None,\n",
        "                                          x_col = \"X2\",\n",
        "                                          y_col = \"Y\",\n",
        "                                          color_mode = \"grayscale\",\n",
        "                                          target_size = (img_height,img_width),\n",
        "                                          class_mode = 'raw',\n",
        "                                          batch_size = batch_size,\n",
        "                                          shuffle=False, \n",
        "                                          seed=7)\n",
        "    while True:\n",
        "            X1i = genX1.next()\n",
        "            X2i = genX2.next()\n",
        "            yield [X1i[0], X2i[0]], X2i[1]  #Yield both images and their mutual label\n",
        "            \n",
        "batch_size = 32\n",
        "img_height = 300\n",
        "img_width = 300\n",
        "\n",
        "inputgenerator=generate_generator_multiple(generator=input_imgen,\n",
        "                                           df = train,\n",
        "                                           batch_size=batch_size,\n",
        "                                           img_height=img_height,\n",
        "                                           img_width=img_width)"
      ]
    },
    {
      "cell_type": "markdown",
      "source": [
        "#Models"
      ],
      "metadata": {
        "id": "XyYTVUlgHDhg"
      }
    },
    {
      "cell_type": "markdown",
      "source": [
        "###I chose Simaese network model as the sample size for each class was small. "
      ],
      "metadata": {
        "id": "X5bRjqBXyuw9"
      }
    },
    {
      "cell_type": "markdown",
      "source": [
        "##Model_1"
      ],
      "metadata": {
        "id": "J_ZZbiCftgyW"
      }
    },
    {
      "cell_type": "markdown",
      "metadata": {
        "id": "KhVdpQISljCX"
      },
      "source": [
        "###I have two Conv2 layer, one fully connected layer with 128 neurons with total 43,675,137 parameters. With this model I got training accuracy around 80% and validation accuracy around 80% for Covid-19, between 60-70% for symptomatic and around 50% for healthy classes.\n",
        " "
      ]
    },
    {
      "cell_type": "code",
      "execution_count": 38,
      "metadata": {
        "id": "fJiltFcFmu4i"
      },
      "outputs": [],
      "source": [
        "def create_model(input_shape):\n",
        "  left_input = Input(input_shape)\n",
        "  right_input = Input(input_shape)\n",
        "  model = Sequential()\n",
        "\n",
        "  model.add(Conv2D(32, kernel_size=(3, 3), input_shape=input_shape))\n",
        "  model.add(BatchNormalization())\n",
        "  model.add(Activation(activation='relu'))\n",
        "  model.add(MaxPooling2D(pool_size=(2, 2)))\n",
        "\n",
        "  model.add(Conv2D(64, kernel_size=(3, 3)))\n",
        "  model.add(BatchNormalization())\n",
        "  model.add(Activation(activation='relu'))\n",
        "  model.add(MaxPooling2D(pool_size=(2, 2)))\n",
        "\n",
        "  model.add(Flatten())\n",
        "  model.add(Dense(128))\n",
        "  model.add(BatchNormalization())\n",
        "  model.add(Activation(activation='relu'))\n",
        "\n",
        "  encoded_l = model(left_input)\n",
        "  encoded_r = model(right_input)\n",
        "\n",
        "  L1_layer = Lambda(lambda tensors:K.abs(tensors[0] - tensors[1]))\n",
        "  L1_distance = L1_layer([encoded_l, encoded_r])\n",
        "  prediction = Dense(1,activation='sigmoid')(L1_distance)\n",
        "\n",
        " \n",
        "\n",
        "  siamese_net = Model(inputs=[left_input,right_input],outputs=prediction)\n",
        "\n",
        "  return siamese_net"
      ]
    },
    {
      "cell_type": "markdown",
      "metadata": {
        "id": "THIzE34UnXbG"
      },
      "source": [
        "##Model_2\n"
      ]
    },
    {
      "cell_type": "markdown",
      "source": [
        "###As there was huge difference between training (80%) and validation (65%) accuracy with model_1. To rectify the overfitting, I modified the model_1 with adding a Dropout layer and increasing neurons to 256."
      ],
      "metadata": {
        "id": "TBOhugTkttBf"
      }
    },
    {
      "cell_type": "code",
      "execution_count": 39,
      "metadata": {
        "id": "5_RKep-HnVfL"
      },
      "outputs": [],
      "source": [
        "def create_model_2(input_shape):\n",
        "  left_input = Input(input_shape)\n",
        "  right_input = Input(input_shape)\n",
        "  model = Sequential()\n",
        "\n",
        "  model.add(Conv2D(32, kernel_size=(3, 3), input_shape=input_shape))\n",
        "  model.add(BatchNormalization())\n",
        "  model.add(Activation(activation='relu'))\n",
        "  model.add(MaxPooling2D(pool_size=(2, 2)))\n",
        "  \n",
        "\n",
        "  model.add(Conv2D(64, kernel_size=(3, 3)))\n",
        "  model.add(BatchNormalization())\n",
        "  model.add(Activation(activation='relu'))\n",
        "  model.add(MaxPooling2D(pool_size=(2, 2)))\n",
        "  model.add(Dropout(0.5))\n",
        "\n",
        "  model.add(Conv2D(128, kernel_size=(3, 3)))\n",
        "  model.add(BatchNormalization())\n",
        "  model.add(Activation(activation='relu'))\n",
        "  model.add(MaxPooling2D(pool_size=(2, 2)))\n",
        "\n",
        "  model.add(Flatten())\n",
        "  model.add(Dense(512))\n",
        "  model.add(BatchNormalization())\n",
        "  model.add(Activation(activation='relu'))\n",
        "\n",
        "  model.add(Dense(256)) \n",
        "  model.add(BatchNormalization())\n",
        "  model.add(Activation(activation='relu'))\n",
        "  model.add(Dropout(0.5))\n",
        "\n",
        "  encoded_l = model(left_input)\n",
        "  encoded_r = model(right_input)\n",
        "\n",
        "  L1_layer = Lambda(lambda tensors:K.abs(tensors[0] - tensors[1]))\n",
        "  L1_distance = L1_layer([encoded_l, encoded_r])\n",
        "  prediction = Dense(1,activation='sigmoid')(L1_distance)\n",
        "\n",
        " \n",
        "\n",
        "  siamese_net = Model(inputs=[left_input,right_input],outputs=prediction)\n",
        "\n",
        "  return siamese_net"
      ]
    },
    {
      "cell_type": "code",
      "source": [
        "import os\n",
        "os.environ[\"KERAS_BACKEND\"] = \"plaidml.keras.backend\""
      ],
      "metadata": {
        "id": "MHyRjDC7AkMX"
      },
      "execution_count": 44,
      "outputs": []
    },
    {
      "cell_type": "code",
      "execution_count": null,
      "metadata": {
        "id": "qa3UpH0Dm227"
      },
      "outputs": [],
      "source": [
        "model=create_model_2((300, 300, 1))\n",
        "\n",
        "model.summary()"
      ]
    },
    {
      "cell_type": "code",
      "execution_count": null,
      "metadata": {
        "id": "YgL6oauknVHm"
      },
      "outputs": [],
      "source": [
        "optimizer = Adam(learning_rate = 0.0001)\n",
        "model.compile(loss='binary_crossentropy', optimizer=optimizer, metrics='accuracy')"
      ]
    },
    {
      "cell_type": "code",
      "execution_count": 23,
      "metadata": {
        "colab": {
          "base_uri": "https://localhost:8080/",
          "height": 422
        },
        "id": "05liiBKlnkx9",
        "outputId": "710990fb-f7ea-40fe-e855-a474a92f7311"
      },
      "outputs": [
        {
          "output_type": "execute_result",
          "data": {
            "text/plain": [
              "<IPython.core.display.Image object>"
            ],
            "image/png": "[encoded data removed]"
          },
          "metadata": {},
          "execution_count": 23
        }
      ],
      "source": [
        "from keras.utils.vis_utils import plot_model\n",
        "plot_model(model, to_file='model_plot.png', show_shapes=True, show_layer_names=True)"
      ]
    },
    {
      "cell_type": "markdown",
      "source": [
        "### Ran 30 epochs in cycle of 20 and 10"
      ],
      "metadata": {
        "id": "PFD-qVi3Hyvi"
      }
    },
    {
      "cell_type": "code",
      "execution_count": null,
      "metadata": {
        "colab": {
          "base_uri": "https://localhost:8080/"
        },
        "id": "sw_J39rJnnmA",
        "outputId": "8693cda0-f94d-4940-eac2-0875644006ec"
      },
      "outputs": [
        {
          "output_type": "stream",
          "name": "stdout",
          "text": [
            "Epoch 1/10\n",
            "167/167 [==============================] - 319s 2s/step - loss: 0.5999 - accuracy: 0.6834\n",
            "Epoch 2/10\n",
            "167/167 [==============================] - 294s 2s/step - loss: 0.6037 - accuracy: 0.6808\n",
            "Epoch 3/10\n",
            "167/167 [==============================] - 289s 2s/step - loss: 0.5764 - accuracy: 0.7041\n",
            "Epoch 4/10\n",
            "167/167 [==============================] - 295s 2s/step - loss: 0.5800 - accuracy: 0.6982\n",
            "Epoch 5/10\n",
            "167/167 [==============================] - 293s 2s/step - loss: 0.5732 - accuracy: 0.7038\n",
            "Epoch 6/10\n",
            "167/167 [==============================] - 290s 2s/step - loss: 0.5723 - accuracy: 0.7036\n",
            "Epoch 7/10\n",
            "167/167 [==============================] - 291s 2s/step - loss: 0.5608 - accuracy: 0.7107\n",
            "Epoch 8/10\n",
            "167/167 [==============================] - 292s 2s/step - loss: 0.5766 - accuracy: 0.6987\n",
            "Epoch 9/10\n",
            "158/167 [===========================>..] - ETA: 16s - loss: 0.5521 - accuracy: 0.7213"
          ]
        }
      ],
      "source": [
        "history=model.fit(inputgenerator,\n",
        "                        steps_per_epoch=len(train)/batch_size,\n",
        "                        epochs = 10,\n",
        "                        use_multiprocessing=True,                        shuffle=False)"
      ]
    },
    {
      "cell_type": "code",
      "execution_count": null,
      "metadata": {
        "id": "KYXDq6f6nx5F"
      },
      "outputs": [],
      "source": [
        "model.save('/content/drive/My Drive/MFCC')"
      ]
    },
    {
      "cell_type": "markdown",
      "metadata": {
        "id": "mKkqwONHztet"
      },
      "source": [
        "## Validation and Testing"
      ]
    },
    {
      "cell_type": "code",
      "execution_count": 30,
      "metadata": {
        "id": "mL4DhDc7z1yA"
      },
      "outputs": [],
      "source": [
        "import numpy as np\n",
        "import pandas as pd\n",
        "import os\n",
        "import matplotlib.pyplot as plt\n",
        "\n",
        "import random\n",
        "import keras\n",
        "from keras.models import Sequential\n",
        "import time\n",
        "from tensorflow.keras.optimizers import Adam,RMSprop\n",
        "from keras.layers import Conv2D, ZeroPadding2D, Activation, Input, concatenate\n",
        "from keras.models import Model\n",
        "import seaborn as sns\n",
        "from tensorflow.keras.layers import BatchNormalization\n",
        "from keras.layers.pooling import MaxPooling2D\n",
        "from keras.layers.core import Lambda, Flatten, Dense\n",
        "from keras.initializers import glorot_uniform\n",
        "from keras.optimizers import *\n",
        "from tensorflow.keras.layers import Layer\n",
        "from keras import backend as K\n",
        "from keras.regularizers import l2\n",
        "import pandas as pd\n",
        "import cv2 as cv\n",
        "from keras.preprocessing.image import ImageDataGenerator"
      ]
    },
    {
      "cell_type": "code",
      "execution_count": 49,
      "metadata": {
        "id": "ZuEK8gLJ0XRZ",
        "colab": {
          "base_uri": "https://localhost:8080/"
        },
        "outputId": "1267fc35-05c4-451e-db7b-b583452a78c7"
      },
      "outputs": [
        {
          "output_type": "stream",
          "name": "stdout",
          "text": [
            "Drive already mounted at /content/drive; to attempt to forcibly remount, call drive.mount(\"/content/drive\", force_remount=True).\n"
          ]
        }
      ],
      "source": [
        "from google.colab import drive\n",
        "drive.mount('/content/drive')"
      ]
    },
    {
      "cell_type": "code",
      "execution_count": null,
      "metadata": {
        "id": "ooA7Cah6rbQd"
      },
      "outputs": [],
      "source": [
        "model = keras.models.load_model('/content/drive/My Drive/MFCC')"
      ]
    },
    {
      "cell_type": "code",
      "execution_count": 33,
      "metadata": {
        "id": "6i1tqayUrjwB"
      },
      "outputs": [],
      "source": [
        "from sklearn.metrics import confusion_matrix,classification_report\n",
        "from sklearn.metrics import accuracy_score"
      ]
    },
    {
      "cell_type": "markdown",
      "metadata": {
        "id": "b3M_aBPzm8LD"
      },
      "source": [
        "###  Test folder with test files from each class"
      ]
    },
    {
      "cell_type": "code",
      "execution_count": 34,
      "metadata": {
        "id": "NG9pzPvEnCvu"
      },
      "outputs": [],
      "source": [
        "test_folder = '/content/drive/My Drive/MFCC/Test'"
      ]
    },
    {
      "cell_type": "code",
      "execution_count": 35,
      "metadata": {
        "id": "rJXiM8XfnYuz"
      },
      "outputs": [],
      "source": [
        "test_df = pd.DataFrame()"
      ]
    },
    {
      "cell_type": "code",
      "execution_count": 36,
      "metadata": {
        "id": "r-BzrtMy4a1V"
      },
      "outputs": [],
      "source": [
        "covid_path= '/content/drive/My Drive/MFCC/Covid/COVID-19'\n",
        "healthy_path = '/content/drive/My Drive/MFCC/healthy'\n",
        "symptomatic_path = '/content/drive/My Drive/MFCC/symptomatic'"
      ]
    },
    {
      "cell_type": "code",
      "execution_count": 37,
      "metadata": {
        "id": "j-D1_Z_74N8_"
      },
      "outputs": [],
      "source": [
        "covid_model = covid_path + '/0eba0c0a-5609-4777-903d-b15292798250.png'\n",
        "healthy_model = healthy_path + '/0cb18590-3107-42dc-b0ca-63b897f15a8b.png'\n",
        "symptomatic_model = symptomatic_path + '/0eef6d8c-73f0-4c59-8155-3786687f5ff0.png'"
      ]
    },
    {
      "cell_type": "code",
      "execution_count": 38,
      "metadata": {
        "id": "XMyOs_UknenT"
      },
      "outputs": [],
      "source": [
        "anchor = []\n",
        "testing = []\n",
        "label = []\n",
        "for folder in os.listdir(test_folder):\n",
        "  foldern = os.path.join(test_folder,folder)\n",
        "  for file in os.listdir(foldern):\n",
        "    filename = os.path.join(foldern,file)\n",
        "    if folder==\"COVID-19\":\n",
        "      anchor.append(covid_model)\n",
        "      testing.append(filename)\n",
        "      label.append(0)\n",
        "      anchor.append(healthy_model)\n",
        "      anchor.append(symptomatic_model)\n",
        "      testing.append(filename)\n",
        "      testing.append(filename)\n",
        "      label.append(1)\n",
        "      label.append(1)\n",
        "    if folder==\"symptomatic\":\n",
        "      anchor.append(symptomatic_model)\n",
        "      testing.append(filename)\n",
        "      label.append(0)\n",
        "      anchor.append(healthy_model)\n",
        "      anchor.append(covid_model)\n",
        "      testing.append(filename)\n",
        "      testing.append(filename)\n",
        "      label.append(1)\n",
        "      label.append(1)\n",
        "    if folder==\"healthy\":\n",
        "      anchor.append(healthy_model)\n",
        "      testing.append(filename)\n",
        "      label.append(0)\n",
        "      anchor.append(covid_model)\n",
        "      anchor.append(symptomatic_model)\n",
        "      testing.append(filename)\n",
        "      testing.append(filename)\n",
        "      label.append(1)\n",
        "      label.append(1)"
      ]
    },
    {
      "cell_type": "code",
      "execution_count": 39,
      "metadata": {
        "id": "cs_f6WQ9pilr",
        "colab": {
          "base_uri": "https://localhost:8080/"
        },
        "outputId": "16164e6b-d90b-44c0-aebc-b7f7a42b83d5"
      },
      "outputs": [
        {
          "output_type": "execute_result",
          "data": {
            "text/plain": [
              "90"
            ]
          },
          "metadata": {},
          "execution_count": 39
        }
      ],
      "source": [
        "len(label)"
      ]
    },
    {
      "cell_type": "code",
      "execution_count": 40,
      "metadata": {
        "id": "sJFmbytL5jcO"
      },
      "outputs": [],
      "source": [
        "\n",
        "def generate_generator_multiple(generator,df, batch_size, img_height,img_width):\n",
        "    genX1 = generator.flow_from_dataframe(df,\n",
        "                                          directory = None,\n",
        "                                          x_col = \"X1\",\n",
        "                                          y_col = \"Y\",\n",
        "                                          color_mode = \"grayscale\",\n",
        "                                          target_size = (img_height,img_width),\n",
        "                                          class_mode = 'raw',\n",
        "                                          batch_size = batch_size,\n",
        "                                          shuffle=False, \n",
        "                                          seed=7)\n",
        "    \n",
        "    genX2 = generator.flow_from_dataframe(df,\n",
        "                                          directory = None,\n",
        "                                          x_col = \"X2\",\n",
        "                                          y_col = \"Y\",\n",
        "                                          color_mode = \"grayscale\",\n",
        "                                          target_size = (img_height,img_width),\n",
        "                                          class_mode = 'raw',\n",
        "                                          batch_size = batch_size,\n",
        "                                          shuffle=False, \n",
        "                                          seed=7)\n",
        "    while True:\n",
        "            X1i = genX1.next()\n",
        "            X2i = genX2.next()\n",
        "            yield [X1i[0], X2i[0]], X2i[1]  #Yield both images and their mutual label"
      ]
    },
    {
      "cell_type": "code",
      "execution_count": 41,
      "metadata": {
        "id": "o095xqXr421b"
      },
      "outputs": [],
      "source": [
        "test_df[\"X1\"] = anchor\n",
        "test_df[\"X2\"] = testing\n",
        "test_df[\"Y\"] = label"
      ]
    },
    {
      "cell_type": "code",
      "execution_count": 42,
      "metadata": {
        "id": "XMXAgtEb46cP"
      },
      "outputs": [],
      "source": [
        "testgenerator=generate_generator_multiple(test_imgen,\n",
        "                                          df = test_df,\n",
        "                                          batch_size=batch_size,\n",
        "                                          img_height=img_height,\n",
        "                                          img_width=img_height)"
      ]
    },
    {
      "cell_type": "code",
      "execution_count": 43,
      "metadata": {
        "id": "Qj7eK5Rp480M",
        "colab": {
          "base_uri": "https://localhost:8080/"
        },
        "outputId": "d5365bfe-b412-419b-91d7-634ca929a52f"
      },
      "outputs": [
        {
          "output_type": "stream",
          "name": "stdout",
          "text": [
            "Found 90 validated image filenames.\n",
            "Found 90 validated image filenames.\n"
          ]
        }
      ],
      "source": [
        "pred = model.predict(testgenerator, steps = len(test_df)/batch_size)"
      ]
    },
    {
      "cell_type": "code",
      "execution_count": 44,
      "metadata": {
        "id": "hkD8DRN45prE"
      },
      "outputs": [],
      "source": [
        "test_df[\"preds\"] = pred"
      ]
    },
    {
      "cell_type": "code",
      "execution_count": 45,
      "metadata": {
        "id": "gATqNQtj50WX"
      },
      "outputs": [],
      "source": [
        "data = test_df[[\"Y\",\"preds\"]].head(30)"
      ]
    },
    {
      "cell_type": "code",
      "execution_count": 46,
      "metadata": {
        "id": "wuu7OPEL55_A"
      },
      "outputs": [],
      "source": [
        "prediction = [1]*90"
      ]
    },
    {
      "cell_type": "code",
      "execution_count": 47,
      "metadata": {
        "id": "mzLMkwcL58he"
      },
      "outputs": [],
      "source": [
        "for i in range(0,len(pred)-3,3):\n",
        "  value0 = pred[i]\n",
        "  value1 = pred[i+1]\n",
        "  value2 = pred[i+2]\n",
        "  li = (value0,value1,value2)\n",
        "  index = li.index(min(li))\n",
        "  pos = i + index\n",
        "  prediction[pos] = 0"
      ]
    },
    {
      "cell_type": "code",
      "execution_count": 48,
      "metadata": {
        "id": "bPeU6pAZ5_IK"
      },
      "outputs": [],
      "source": [
        "test_df[\"prediction\"] = prediction"
      ]
    },
    {
      "cell_type": "code",
      "execution_count": 49,
      "metadata": {
        "id": "Wfl2o53f6BtL"
      },
      "outputs": [],
      "source": [
        "true = test_df[\"Y\"]"
      ]
    },
    {
      "cell_type": "code",
      "execution_count": 50,
      "metadata": {
        "id": "e8e-aHz86Mg6",
        "colab": {
          "base_uri": "https://localhost:8080/",
          "height": 423
        },
        "outputId": "2f2acd1c-6b62-42c0-832a-f485c9e82a1c"
      },
      "outputs": [
        {
          "output_type": "execute_result",
          "data": {
            "text/plain": [
              "                                                   X1  \\\n",
              "0   /content/drive/My Drive/MFCC/Covid/COVID-19/0e...   \n",
              "1   /content/drive/My Drive/MFCC/healthy/0cb18590-...   \n",
              "2   /content/drive/My Drive/MFCC/symptomatic/0eef6...   \n",
              "3   /content/drive/My Drive/MFCC/Covid/COVID-19/0e...   \n",
              "4   /content/drive/My Drive/MFCC/healthy/0cb18590-...   \n",
              "..                                                ...   \n",
              "85  /content/drive/My Drive/MFCC/Covid/COVID-19/0e...   \n",
              "86  /content/drive/My Drive/MFCC/symptomatic/0eef6...   \n",
              "87  /content/drive/My Drive/MFCC/healthy/0cb18590-...   \n",
              "88  /content/drive/My Drive/MFCC/Covid/COVID-19/0e...   \n",
              "89  /content/drive/My Drive/MFCC/symptomatic/0eef6...   \n",
              "\n",
              "                                                   X2  Y     preds  prediction  \n",
              "0   /content/drive/My Drive/MFCC/Test/COVID-19/1d4...  0  0.479356           1  \n",
              "1   /content/drive/My Drive/MFCC/Test/COVID-19/1d4...  1  0.852993           1  \n",
              "2   /content/drive/My Drive/MFCC/Test/COVID-19/1d4...  1  0.476759           0  \n",
              "3   /content/drive/My Drive/MFCC/Test/COVID-19/1c8...  0  0.566965           0  \n",
              "4   /content/drive/My Drive/MFCC/Test/COVID-19/1c8...  1  0.756485           1  \n",
              "..                                                ... ..       ...         ...  \n",
              "85  /content/drive/My Drive/MFCC/Test/healthy/2bc3...  1  0.462062           0  \n",
              "86  /content/drive/My Drive/MFCC/Test/healthy/2bc3...  1  0.662228           1  \n",
              "87  /content/drive/My Drive/MFCC/Test/healthy/2baa...  0  0.800527           1  \n",
              "88  /content/drive/My Drive/MFCC/Test/healthy/2baa...  1  0.622458           1  \n",
              "89  /content/drive/My Drive/MFCC/Test/healthy/2baa...  1  0.519661           1  \n",
              "\n",
              "[90 rows x 5 columns]"
            ],
            "text/html": [
              "\n",
              "  <div id=\"df-01981181-dba9-483a-bcad-353dff0f30f0\">\n",
              "    <div class=\"colab-df-container\">\n",
              "      <div>\n",
              "<style scoped>\n",
              "    .dataframe tbody tr th:only-of-type {\n",
              "        vertical-align: middle;\n",
              "    }\n",
              "\n",
              "    .dataframe tbody tr th {\n",
              "        vertical-align: top;\n",
              "    }\n",
              "\n",
              "    .dataframe thead th {\n",
              "        text-align: right;\n",
              "    }\n",
              "</style>\n",
              "<table border=\"1\" class=\"dataframe\">\n",
              "  <thead>\n",
              "    <tr style=\"text-align: right;\">\n",
              "      <th></th>\n",
              "      <th>X1</th>\n",
              "      <th>X2</th>\n",
              "      <th>Y</th>\n",
              "      <th>preds</th>\n",
              "      <th>prediction</th>\n",
              "    </tr>\n",
              "  </thead>\n",
              "  <tbody>\n",
              "    <tr>\n",
              "      <th>0</th>\n",
              "      <td>/content/drive/My Drive/MFCC/Covid/COVID-19/0e...</td>\n",
              "      <td>/content/drive/My Drive/MFCC/Test/COVID-19/1d4...</td>\n",
              "      <td>0</td>\n",
              "      <td>0.479356</td>\n",
              "      <td>1</td>\n",
              "    </tr>\n",
              "    <tr>\n",
              "      <th>1</th>\n",
              "      <td>/content/drive/My Drive/MFCC/healthy/0cb18590-...</td>\n",
              "      <td>/content/drive/My Drive/MFCC/Test/COVID-19/1d4...</td>\n",
              "      <td>1</td>\n",
              "      <td>0.852993</td>\n",
              "      <td>1</td>\n",
              "    </tr>\n",
              "    <tr>\n",
              "      <th>2</th>\n",
              "      <td>/content/drive/My Drive/MFCC/symptomatic/0eef6...</td>\n",
              "      <td>/content/drive/My Drive/MFCC/Test/COVID-19/1d4...</td>\n",
              "      <td>1</td>\n",
              "      <td>0.476759</td>\n",
              "      <td>0</td>\n",
              "    </tr>\n",
              "    <tr>\n",
              "      <th>3</th>\n",
              "      <td>/content/drive/My Drive/MFCC/Covid/COVID-19/0e...</td>\n",
              "      <td>/content/drive/My Drive/MFCC/Test/COVID-19/1c8...</td>\n",
              "      <td>0</td>\n",
              "      <td>0.566965</td>\n",
              "      <td>0</td>\n",
              "    </tr>\n",
              "    <tr>\n",
              "      <th>4</th>\n",
              "      <td>/content/drive/My Drive/MFCC/healthy/0cb18590-...</td>\n",
              "      <td>/content/drive/My Drive/MFCC/Test/COVID-19/1c8...</td>\n",
              "      <td>1</td>\n",
              "      <td>0.756485</td>\n",
              "      <td>1</td>\n",
              "    </tr>\n",
              "    <tr>\n",
              "      <th>...</th>\n",
              "      <td>...</td>\n",
              "      <td>...</td>\n",
              "      <td>...</td>\n",
              "      <td>...</td>\n",
              "      <td>...</td>\n",
              "    </tr>\n",
              "    <tr>\n",
              "      <th>85</th>\n",
              "      <td>/content/drive/My Drive/MFCC/Covid/COVID-19/0e...</td>\n",
              "      <td>/content/drive/My Drive/MFCC/Test/healthy/2bc3...</td>\n",
              "      <td>1</td>\n",
              "      <td>0.462062</td>\n",
              "      <td>0</td>\n",
              "    </tr>\n",
              "    <tr>\n",
              "      <th>86</th>\n",
              "      <td>/content/drive/My Drive/MFCC/symptomatic/0eef6...</td>\n",
              "      <td>/content/drive/My Drive/MFCC/Test/healthy/2bc3...</td>\n",
              "      <td>1</td>\n",
              "      <td>0.662228</td>\n",
              "      <td>1</td>\n",
              "    </tr>\n",
              "    <tr>\n",
              "      <th>87</th>\n",
              "      <td>/content/drive/My Drive/MFCC/healthy/0cb18590-...</td>\n",
              "      <td>/content/drive/My Drive/MFCC/Test/healthy/2baa...</td>\n",
              "      <td>0</td>\n",
              "      <td>0.800527</td>\n",
              "      <td>1</td>\n",
              "    </tr>\n",
              "    <tr>\n",
              "      <th>88</th>\n",
              "      <td>/content/drive/My Drive/MFCC/Covid/COVID-19/0e...</td>\n",
              "      <td>/content/drive/My Drive/MFCC/Test/healthy/2baa...</td>\n",
              "      <td>1</td>\n",
              "      <td>0.622458</td>\n",
              "      <td>1</td>\n",
              "    </tr>\n",
              "    <tr>\n",
              "      <th>89</th>\n",
              "      <td>/content/drive/My Drive/MFCC/symptomatic/0eef6...</td>\n",
              "      <td>/content/drive/My Drive/MFCC/Test/healthy/2baa...</td>\n",
              "      <td>1</td>\n",
              "      <td>0.519661</td>\n",
              "      <td>1</td>\n",
              "    </tr>\n",
              "  </tbody>\n",
              "</table>\n",
              "<p>90 rows × 5 columns</p>\n",
              "</div>\n",
              "      <button class=\"colab-df-convert\" onclick=\"convertToInteractive('df-01981181-dba9-483a-bcad-353dff0f30f0')\"\n",
              "              title=\"Convert this dataframe to an interactive table.\"\n",
              "              style=\"display:none;\">\n",
              "        \n",
              "  <svg xmlns=\"http://www.w3.org/2000/svg\" height=\"24px\"viewBox=\"0 0 24 24\"\n",
              "       width=\"24px\">\n",
              "    <path d=\"M0 0h24v24H0V0z\" fill=\"none\"/>\n",
              "    <path d=\"M18.56 5.44l.94 2.06.94-2.06 2.06-.94-2.06-.94-.94-2.06-.94 2.06-2.06.94zm-11 1L8.5 8.5l.94-2.06 2.06-.94-2.06-.94L8.5 2.5l-.94 2.06-2.06.94zm10 10l.94 2.06.94-2.06 2.06-.94-2.06-.94-.94-2.06-.94 2.06-2.06.94z\"/><path d=\"M17.41 7.96l-1.37-1.37c-.4-.4-.92-.59-1.43-.59-.52 0-1.04.2-1.43.59L10.3 9.45l-7.72 7.72c-.78.78-.78 2.05 0 2.83L4 21.41c.39.39.9.59 1.41.59.51 0 1.02-.2 1.41-.59l7.78-7.78 2.81-2.81c.8-.78.8-2.07 0-2.86zM5.41 20L4 18.59l7.72-7.72 1.47 1.35L5.41 20z\"/>\n",
              "  </svg>\n",
              "      </button>\n",
              "      \n",
              "  <style>\n",
              "    .colab-df-container {\n",
              "      display:flex;\n",
              "      flex-wrap:wrap;\n",
              "      gap: 12px;\n",
              "    }\n",
              "\n",
              "    .colab-df-convert {\n",
              "      background-color: #E8F0FE;\n",
              "      border: none;\n",
              "      border-radius: 50%;\n",
              "      cursor: pointer;\n",
              "      display: none;\n",
              "      fill: #1967D2;\n",
              "      height: 32px;\n",
              "      padding: 0 0 0 0;\n",
              "      width: 32px;\n",
              "    }\n",
              "\n",
              "    .colab-df-convert:hover {\n",
              "      background-color: #E2EBFA;\n",
              "      box-shadow: 0px 1px 2px rgba(60, 64, 67, 0.3), 0px 1px 3px 1px rgba(60, 64, 67, 0.15);\n",
              "      fill: #174EA6;\n",
              "    }\n",
              "\n",
              "    [theme=dark] .colab-df-convert {\n",
              "      background-color: #3B4455;\n",
              "      fill: #D2E3FC;\n",
              "    }\n",
              "\n",
              "    [theme=dark] .colab-df-convert:hover {\n",
              "      background-color: #434B5C;\n",
              "      box-shadow: 0px 1px 3px 1px rgba(0, 0, 0, 0.15);\n",
              "      filter: drop-shadow(0px 1px 2px rgba(0, 0, 0, 0.3));\n",
              "      fill: #FFFFFF;\n",
              "    }\n",
              "  </style>\n",
              "\n",
              "      <script>\n",
              "        const buttonEl =\n",
              "          document.querySelector('#df-01981181-dba9-483a-bcad-353dff0f30f0 button.colab-df-convert');\n",
              "        buttonEl.style.display =\n",
              "          google.colab.kernel.accessAllowed ? 'block' : 'none';\n",
              "\n",
              "        async function convertToInteractive(key) {\n",
              "          const element = document.querySelector('#df-01981181-dba9-483a-bcad-353dff0f30f0');\n",
              "          const dataTable =\n",
              "            await google.colab.kernel.invokeFunction('convertToInteractive',\n",
              "                                                     [key], {});\n",
              "          if (!dataTable) return;\n",
              "\n",
              "          const docLinkHtml = 'Like what you see? Visit the ' +\n",
              "            '<a target=\"_blank\" href=https://colab.research.google.com/notebooks/data_table.ipynb>data table notebook</a>'\n",
              "            + ' to learn more about interactive tables.';\n",
              "          element.innerHTML = '';\n",
              "          dataTable['output_type'] = 'display_data';\n",
              "          await google.colab.output.renderOutput(dataTable, element);\n",
              "          const docLink = document.createElement('div');\n",
              "          docLink.innerHTML = docLinkHtml;\n",
              "          element.appendChild(docLink);\n",
              "        }\n",
              "      </script>\n",
              "    </div>\n",
              "  </div>\n",
              "  "
            ]
          },
          "metadata": {},
          "execution_count": 50
        }
      ],
      "source": [
        "test_df"
      ]
    },
    {
      "cell_type": "code",
      "execution_count": 51,
      "metadata": {
        "id": "286EdEMG6O0A",
        "colab": {
          "base_uri": "https://localhost:8080/"
        },
        "outputId": "793a8720-1e32-4dae-964e-f0bb7104eeec"
      },
      "outputs": [
        {
          "output_type": "stream",
          "name": "stdout",
          "text": [
            "Accuracy is 0.6111111111111112\n"
          ]
        }
      ],
      "source": [
        "print(\"Accuracy is {}\".format(accuracy_score(test_df[\"Y\"].to_list(),test_df[\"prediction\"].to_list())))"
      ]
    },
    {
      "cell_type": "markdown",
      "source": [
        "#Visualization of Confusion Matrix"
      ],
      "metadata": {
        "id": "CKytgsyO_Oiz"
      }
    },
    {
      "cell_type": "code",
      "source": [
        "test_vis= confusion_matrix(test_df[\"Y\"].to_list(),test_df[\"prediction\"].to_list())"
      ],
      "metadata": {
        "id": "ieXqdeTM9qfh"
      },
      "execution_count": 52,
      "outputs": []
    },
    {
      "cell_type": "code",
      "source": [
        "test_vis"
      ],
      "metadata": {
        "colab": {
          "base_uri": "https://localhost:8080/"
        },
        "id": "fsuwekCb99mD",
        "outputId": "69e5ca55-4700-4124-a239-99e911c9dbaa"
      },
      "execution_count": 53,
      "outputs": [
        {
          "output_type": "execute_result",
          "data": {
            "text/plain": [
              "array([[12, 18],\n",
              "       [17, 43]])"
            ]
          },
          "metadata": {},
          "execution_count": 53
        }
      ]
    },
    {
      "cell_type": "code",
      "source": [
        "plt.figure(figsize=(10,7))\n",
        "sns.set(font_scale=1.4) # for label size\n",
        "fig=sns.heatmap(test_vis,annot=True, annot_kws={\"size\": 16}) # font size\n",
        "fig.set( xlabel = \"Predicted Value\", ylabel = \"True Value\")\n",
        "plt.show()"
      ],
      "metadata": {
        "colab": {
          "base_uri": "https://localhost:8080/",
          "height": 458
        },
        "id": "jnKi62-x-GsN",
        "outputId": "97e5eb16-ef53-449a-c17d-758203ed6b70"
      },
      "execution_count": 57,
      "outputs": [
        {
          "output_type": "display_data",
          "data": {
            "text/plain": [
              "<Figure size 720x504 with 2 Axes>"
            ],
            "image/png": "[encoded data removed]"
          },
          "metadata": {}
        }
      ]
    },
    {
      "cell_type": "code",
      "source": [
        "model_report= classification_report(test_df[\"Y\"].to_list(),test_df[\"prediction\"].to_list())\n"
      ],
      "metadata": {
        "id": "7t8HaGE7AD1t"
      },
      "execution_count": 51,
      "outputs": []
    },
    {
      "cell_type": "code",
      "source": [
        "print(model_report)"
      ],
      "metadata": {
        "colab": {
          "base_uri": "https://localhost:8080/"
        },
        "id": "SH4EtmRiAzMk",
        "outputId": "d749d091-5111-477a-af7f-c99e2848c4e4"
      },
      "execution_count": 52,
      "outputs": [
        {
          "output_type": "stream",
          "name": "stdout",
          "text": [
            "              precision    recall  f1-score   support\n",
            "\n",
            "           0       0.41      0.40      0.41        30\n",
            "           1       0.70      0.72      0.71        60\n",
            "\n",
            "    accuracy                           0.61        90\n",
            "   macro avg       0.56      0.56      0.56        90\n",
            "weighted avg       0.61      0.61      0.61        90\n",
            "\n"
          ]
        }
      ]
    },
    {
      "cell_type": "markdown",
      "source": [
        "#Result"
      ],
      "metadata": {
        "id": "TlANzVVejiW0"
      }
    },
    {
      "cell_type": "markdown",
      "source": [
        "###With model_2 the training accuracy of 72% with the new model while the validation accuracy was 62%. model_2 didn't improve the accuracy for classes but overfitting reduced. Recall of Covid-19 was 80% for both the models. symptomatic class had close to 60% recall, where as healthy class has the least recall of around 50%."
      ],
      "metadata": {
        "id": "B8f3wg6yoAwK"
      }
    },
    {
      "cell_type": "markdown",
      "source": [
        "##Recall Value "
      ],
      "metadata": {
        "id": "iENWvJVwonZs"
      }
    },
    {
      "cell_type": "code",
      "execution_count": 45,
      "metadata": {
        "id": "dqxceddn6UwQ"
      },
      "outputs": [],
      "source": [
        "def print_recall(check):\n",
        "  correct = 0\n",
        "  total = 0\n",
        "  for _,x in test_df.iterrows():\n",
        "    category = x[\"X2\"].split(\"/\")[-2]\n",
        "    truth = x[\"Y\"]\n",
        "    pre = x[\"prediction\"]\n",
        "    if category==check:\n",
        "      total+=1\n",
        "      if truth==pre:\n",
        "        correct+=1\n",
        "  accuracy = correct/total\n",
        "  print(\"Recall of {} is {} \".format(check,accuracy))"
      ]
    },
    {
      "cell_type": "code",
      "execution_count": 46,
      "metadata": {
        "id": "gt8rsvy8607W",
        "colab": {
          "base_uri": "https://localhost:8080/"
        },
        "outputId": "7d576df3-0b91-484f-bda6-e9370663aebd"
      },
      "outputs": [
        {
          "output_type": "stream",
          "name": "stdout",
          "text": [
            "Recall of COVID-19 is 0.8 \n"
          ]
        }
      ],
      "source": [
        "print_recall(\"COVID-19\")"
      ]
    },
    {
      "cell_type": "code",
      "execution_count": 47,
      "metadata": {
        "id": "EqXU3yni63n3",
        "colab": {
          "base_uri": "https://localhost:8080/"
        },
        "outputId": "3998076a-e216-4bc7-d3c4-900c2dfbe4f7"
      },
      "outputs": [
        {
          "output_type": "stream",
          "name": "stdout",
          "text": [
            "Recall of healthy is 0.43333333333333335 \n"
          ]
        }
      ],
      "source": [
        "print_recall(\"healthy\")"
      ]
    },
    {
      "cell_type": "code",
      "execution_count": 48,
      "metadata": {
        "id": "Wy6y9PeZ7vpa",
        "colab": {
          "base_uri": "https://localhost:8080/"
        },
        "outputId": "0d4e0379-5f9e-4a83-d923-9ee9c3c15d83"
      },
      "outputs": [
        {
          "output_type": "stream",
          "name": "stdout",
          "text": [
            "Recall of symptomatic is 0.6 \n"
          ]
        }
      ],
      "source": [
        "print_recall(\"symptomatic\")"
      ]
    },
    {
      "cell_type": "code",
      "source": [
        ""
      ],
      "metadata": {
        "id": "6r5jv0biMlsU"
      },
      "execution_count": null,
      "outputs": []
    }
  ],
  "metadata": {
    "accelerator": "GPU",
    "colab": {
      "name": "CoughVid.ipynb",
      "provenance": [],
      "collapsed_sections": [
        "KTZLWpJohKQZ"
      ]
    },
    "kernelspec": {
      "display_name": "Python 3",
      "name": "python3"
    },
    "language_info": {
      "name": "python"
    }
  },
  "nbformat": 4,
  "nbformat_minor": 0
}